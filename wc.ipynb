{
 "cells": [
  {
   "cell_type": "code",
   "execution_count": 2,
   "id": "d557741c",
   "metadata": {},
   "outputs": [],
   "source": [
    "import httplib2\n",
    "from bs4 import BeautifulSoup, SoupStrainer\n",
    "import requests\n",
    "\n",
    "import time\n",
    "\n",
    "from PyPDF2 import PdfFileReader\n",
    "import io\n",
    "\n",
    "import numpy as np\n",
    "import pandas as pd\n",
    "import re\n",
    "import array\n",
    "from time import sleep\n",
    "\n",
    "from selenium import webdriver\n",
    "from selenium.webdriver.common.keys import Keys\n",
    "from selenium.webdriver.common.by import By\n",
    "from selenium.webdriver.support.ui import WebDriverWait\n",
    "from selenium.webdriver.support import expected_conditions as EC\n",
    "from selenium.common.exceptions import NoSuchElementException"
   ]
  },
  {
   "cell_type": "code",
   "execution_count": 3,
   "id": "508b7ef7",
   "metadata": {},
   "outputs": [],
   "source": [
    "# click privacy policy button, pass in webdriver and data safety urls with privacy policy button on page\n",
    "def press_button(driver, data_url):\n",
    "    driver.implicitly_wait(1)\n",
    "    driver.get(data_url)\n",
    "    print(data_url)\n",
    "    # press privacy policy button by LINK_TEXT from html/web inspection page\n",
    "    \n",
    "    try:\n",
    "        button = driver.find_element(By.LINK_TEXT, \"privacy policy\")\n",
    "        button.click()\n",
    "    \n",
    "    except NoSuchElementException:\n",
    "        pass\n",
    "        current = \"N/A\"\n",
    "        print(current)\n",
    "        return current\n",
    "    \n",
    "    \n",
    "    # close unused tabs, url for privacy policy is child window\n",
    "#     p = driver.window_handles[0]\n",
    "#     c = driver.window_handles[1]\n",
    "#     driver.switch_to.window(c)\n",
    "    \n",
    "#     WebDriverWait(driver, 2)\n",
    "    \n",
    "#     current = driver.current_url\n",
    "#     print(current)\n",
    "    comp = driver.current_url\n",
    "    tabs_open = len(driver.window_handles)\n",
    "\n",
    "    if tabs_open > 1:        \n",
    "        p = driver.window_handles[0]\n",
    "        c = driver.window_handles[1]\n",
    "        driver.switch_to.window(c)\n",
    "\n",
    "        WebDriverWait(driver, 4)\n",
    "\n",
    "        current = driver.current_url\n",
    "        print(current)\n",
    "        # close child window and switch to original/parent window\n",
    "        driver.close()\n",
    "    \n",
    "        driver.switch_to.window(p)\n",
    "    else:\n",
    "        WebDriverWait(driver, 2)\n",
    "        current = driver.current_url\n",
    "        print(current)\n",
    "\n",
    "    sleep(1)\n",
    "\n",
    "    # return privacy policy url for df\n",
    "    return current"
   ]
  },
  {
   "cell_type": "code",
   "execution_count": 4,
   "id": "e978c163",
   "metadata": {},
   "outputs": [],
   "source": [
    "# scroll search page to get all returned app url's and id's\n",
    "def scroll(driver, timeout):\n",
    "    last_height = driver.execute_script(\"return document.body.scrollHeight\")\n",
    "    scroll_pause_time = timeout\n",
    "    while True:\n",
    "        driver.execute_script(\"window.scrollTo(0, document.body.scrollHeight);\")\n",
    "        time.sleep(scroll_pause_time)\n",
    "        \n",
    "        new_height = driver.execute_script(\"return document.body.scrollHeight\")\n",
    "        if new_height == last_height:\n",
    "            break\n",
    "            \n",
    "        last_height = new_height"
   ]
  },
  {
   "cell_type": "code",
   "execution_count": 5,
   "id": "9d44e3f0",
   "metadata": {},
   "outputs": [],
   "source": [
    "# get urls from search\n",
    "def get_urls(starts_with):\n",
    "    http = httplib2.Http()\n",
    "    chrome_options = webdriver.ChromeOptions()\n",
    "    chrome_options.add_argument(\"--incognito\")\n",
    "    driver = webdriver.Chrome()\n",
    "    # wait for page to load\n",
    "    driver.implicitly_wait(30)\n",
    "    # provide url(s) for driver\n",
    "    driver.get(\"https://play.google.com/store/search?q=\" + starts_with  + \"&c=apps\")\n",
    "    # scroll to get all apps\n",
    "    scroll(driver, 2)\n",
    "\n",
    "    # read and obtain all urls\n",
    "    soup_a = BeautifulSoup(driver.page_source, 'lxml')\n",
    "    \n",
    "    driver.close()\n",
    "\n",
    "    # copy all urls\n",
    "    urls = []\n",
    "    for link in soup_a.find_all('a'):\n",
    "        urls.append(link.get('href'))\n",
    "    return urls"
   ]
  },
  {
   "cell_type": "code",
   "execution_count": 6,
   "id": "bd6ac2bd",
   "metadata": {
    "scrolled": true
   },
   "outputs": [
    {
     "name": "stdout",
     "output_type": "stream",
     "text": [
      "word\n",
      "/store/games\n",
      "46\n",
      "/store/games\n",
      "https://policies.google.com/privacy\n",
      "https://myaccount.google.com/termsofservice\n",
      "/store/search?q=word&c=apps\n",
      "/store/search?q=word&c=movies\n",
      "/store/search?q=word&c=books\n",
      "/store/apps/details?id=com.microsoft.office.word\n",
      "/store/apps/details?id=com.google.android.apps.docs.editors.docs\n",
      "/store/apps/details?id=com.palmmob.office2global\n",
      "/store/apps/details?id=com.officedocument.word.docx.document.viewer\n",
      "/store/apps/details?id=cn.wps.moffice_eng\n",
      "/store/apps/details?id=com.peoplefun.wordcross\n",
      "/store/apps/details?id=com.officesuite.fileopener.fileviewer.all.document.reader.word.excel.pptx.pdf\n",
      "/store/apps/details?id=com.microsoft.office.officehubrow\n",
      "/store/apps/details?id=com.bitmango.go.wordcookies\n",
      "/store/apps/details?id=ccom.legend.office.viewer\n",
      "/store/apps/details?id=com.mobisystems.office\n",
      "/store/apps/details?id=com.wordgame.words.connect\n",
      "/store/apps/details?id=com.oneup.word.search\n",
      "/store/apps/details?id=com.platinumplayer.word.addict\n",
      "/store/apps/details?id=com.zynga.words3\n",
      "/store/apps/details?id=com.zynga.words\n",
      "/store/apps/details?id=com.fugo.wow\n",
      "/store/apps/details?id=in.playsimple.wordtrip\n",
      "/store/apps/details?id=com.zynga.wwf2.free\n",
      "/store/apps/details?id=com.tangramgames.gourddoll.wordcrush\n",
      "/store/apps/details?id=com.pieyel.scrabble\n",
      "/store/apps/details?id=com.marulgames.wordsurf\n",
      "/store/apps/details?id=word.connect.wordswipe.wordstacks.wordstory.wordscapes.word.games\n",
      "/store/search?q=microsoft+office+word+2007+for+mobile&c=apps\n",
      "/store/search?q=word+games&c=apps\n",
      "/store/search?q=pdf+to+word+converter&c=apps\n",
      "/store/search?q=microsoft+word+2007+for+mobile&c=apps\n",
      "/store/search?q=words&c=apps\n",
      "https://play.google.com/about/play-pass\n",
      "/store/points/enroll\n",
      "https://play.google.com/about/giftcards\n",
      "/redeem\n",
      "https://support.google.com/googleplay/answer/134336\n",
      "https://support.google.com/googleplay?p=pff_parentguide\n",
      "https://support.google.com/googleplay/answer/7007852\n",
      "https://play.google.com/intl/en-US_us/about/play-terms.html\n",
      "https://policies.google.com/privacy\n",
      "https://support.google.com/googleplay/?p=about_play\n",
      "http://developer.android.com/index.html\n",
      "https://store.google.com/?playredirect=true\n"
     ]
    }
   ],
   "source": [
    "# alphabet = \"abcdefghijklmnopqrstuvwxyz\"\n",
    "# categories = [\"Daydream\", \"Beauty\", \"Auto & Vehicles\", \"Business\", \"Comics\", \"Books & Reference\", \"Dating\", \"Education\", \"Communication\", \"Food & Drink\", \"Entertainment\", \"Health & Fitness\", \"Events\", \"Finance\", \"Libraries & Demo\", \"House & Home\", \"Lifestyle\", \"Medical\", \"Maps & Navigation\", \"News & Magazines\", \"Audio\", \"Personalization\", \"Photography\", \"Parenting\", \"Shopping\", \"Productivity\", \"Tools\", \"Social\", \"Sports\", \"Video Players & Editors\", \"Travel & Local\", \"Weather\",\n",
    "#               \"Adventure\", \"Arcade\", \"Action\", \"Board\", \"Casino\", \"Casual\", \"Card\", \"Music\", \"Puzzle\", \"Educational\", \"Role Playing\", \"Racing\", \"Sports\", \"Strategy\", \"Simulation\", \"Brain Games\", \"Trivia\", \"Word\", \"Education\", \"Creativity\", \"Video\", \"TV\", \"Weather\", \"a\", \"b\", \"c\", \"d\", \"e\", \"f\", \"g\", \"h\", \"i\", \"j\", \"k\", \"l\", \"m\", \"n\", \"o\", \"p\", \"q\", \"r\", \"s\", \"t\", \"u\", \"v\", \"w\", \"x\", \"y\", \"z\"]\n",
    "categories = ['word']\n",
    "urls = []\n",
    "# alphabet = 'ab'\n",
    "\n",
    "# loop through search categories and add to urls array\n",
    "for char_index in range(len(categories)):\n",
    "    print(categories[char_index])\n",
    "    urls += get_urls(categories[char_index])\n",
    "    print(urls[char_index])\n",
    "print(len(urls))\n",
    "for i in range(len(urls)):\n",
    "    print(urls[i])\n"
   ]
  },
  {
   "cell_type": "code",
   "execution_count": 7,
   "id": "fd7b6da2",
   "metadata": {},
   "outputs": [],
   "source": [
    "def get_data_safety_urls(app_ids):\n",
    "    \n",
    "    base_url = \"https://play.google.com/store/apps/datasafety?id=\"\n",
    "    data_urls = []\n",
    "    \n",
    "    data_urls = [base_url + s for s in app_ids]\n",
    "    \n",
    "    return data_urls\n",
    "            "
   ]
  },
  {
   "cell_type": "code",
   "execution_count": 8,
   "id": "76a711c9",
   "metadata": {},
   "outputs": [
    {
     "name": "stdout",
     "output_type": "stream",
     "text": [
      "com.microsoft.office.word\n",
      "com.google.android.apps.docs.editors.docs\n",
      "com.palmmob.office2global\n",
      "com.officedocument.word.docx.document.viewer\n",
      "cn.wps.moffice_eng\n",
      "com.peoplefun.wordcross\n",
      "com.officesuite.fileopener.fileviewer.all.document.reader.word.excel.pptx.pdf\n",
      "com.microsoft.office.officehubrow\n",
      "com.bitmango.go.wordcookies\n",
      "ccom.legend.office.viewer\n",
      "com.mobisystems.office\n",
      "com.wordgame.words.connect\n",
      "com.oneup.word.search\n",
      "com.platinumplayer.word.addict\n",
      "com.zynga.words3\n",
      "com.zynga.words\n",
      "com.fugo.wow\n",
      "in.playsimple.wordtrip\n",
      "com.zynga.wwf2.free\n",
      "com.tangramgames.gourddoll.wordcrush\n",
      "com.pieyel.scrabble\n",
      "com.marulgames.wordsurf\n",
      "word.connect.wordswipe.wordstacks.wordstory.wordscapes.word.games\n",
      "23\n",
      "------------------------------------------------------------------------------------------------------------\n",
      "23\n",
      "['https://play.google.com/store/apps/datasafety?id=com.microsoft.office.word', 'https://play.google.com/store/apps/datasafety?id=com.google.android.apps.docs.editors.docs', 'https://play.google.com/store/apps/datasafety?id=com.palmmob.office2global', 'https://play.google.com/store/apps/datasafety?id=com.officedocument.word.docx.document.viewer', 'https://play.google.com/store/apps/datasafety?id=cn.wps.moffice_eng', 'https://play.google.com/store/apps/datasafety?id=com.peoplefun.wordcross', 'https://play.google.com/store/apps/datasafety?id=com.officesuite.fileopener.fileviewer.all.document.reader.word.excel.pptx.pdf', 'https://play.google.com/store/apps/datasafety?id=com.microsoft.office.officehubrow', 'https://play.google.com/store/apps/datasafety?id=com.bitmango.go.wordcookies', 'https://play.google.com/store/apps/datasafety?id=ccom.legend.office.viewer', 'https://play.google.com/store/apps/datasafety?id=com.mobisystems.office', 'https://play.google.com/store/apps/datasafety?id=com.wordgame.words.connect', 'https://play.google.com/store/apps/datasafety?id=com.oneup.word.search', 'https://play.google.com/store/apps/datasafety?id=com.platinumplayer.word.addict', 'https://play.google.com/store/apps/datasafety?id=com.zynga.words3', 'https://play.google.com/store/apps/datasafety?id=com.zynga.words', 'https://play.google.com/store/apps/datasafety?id=com.fugo.wow', 'https://play.google.com/store/apps/datasafety?id=in.playsimple.wordtrip', 'https://play.google.com/store/apps/datasafety?id=com.zynga.wwf2.free', 'https://play.google.com/store/apps/datasafety?id=com.tangramgames.gourddoll.wordcrush', 'https://play.google.com/store/apps/datasafety?id=com.pieyel.scrabble', 'https://play.google.com/store/apps/datasafety?id=com.marulgames.wordsurf', 'https://play.google.com/store/apps/datasafety?id=word.connect.wordswipe.wordstacks.wordstory.wordscapes.word.games'] ['com.microsoft.office.word', 'com.google.android.apps.docs.editors.docs', 'com.palmmob.office2global', 'com.officedocument.word.docx.document.viewer', 'cn.wps.moffice_eng', 'com.peoplefun.wordcross', 'com.officesuite.fileopener.fileviewer.all.document.reader.word.excel.pptx.pdf', 'com.microsoft.office.officehubrow', 'com.bitmango.go.wordcookies', 'ccom.legend.office.viewer', 'com.mobisystems.office', 'com.wordgame.words.connect', 'com.oneup.word.search', 'com.platinumplayer.word.addict', 'com.zynga.words3', 'com.zynga.words', 'com.fugo.wow', 'in.playsimple.wordtrip', 'com.zynga.wwf2.free', 'com.tangramgames.gourddoll.wordcrush', 'com.pieyel.scrabble', 'com.marulgames.wordsurf', 'word.connect.wordswipe.wordstacks.wordstory.wordscapes.word.games']\n"
     ]
    }
   ],
   "source": [
    "# remove extra characters from urls array to get only app ids\n",
    "app_ids = [val for val in urls if val.startswith('/store/apps/details?id=')]\n",
    "\n",
    "for i in range(len(app_ids)):\n",
    "    app_ids[i] = app_ids[i][23:]\n",
    "    print(app_ids[i])\n",
    "print(len(app_ids))\n",
    "print(\"------------------------------------------------------------------------------------------------------------\")\n",
    "data_urls = get_data_safety_urls(app_ids)\n",
    "print(len(data_urls))\n",
    "print(data_urls, app_ids)"
   ]
  },
  {
   "cell_type": "code",
   "execution_count": 9,
   "id": "97a292cf",
   "metadata": {},
   "outputs": [],
   "source": [
    "# pd.set_option('max_colwidth', 400)\n",
    "# df = pd.DataFrame(data_urls, columns=['data safety urls'])\n",
    "# display(df)"
   ]
  },
  {
   "cell_type": "code",
   "execution_count": 10,
   "id": "3b38a899",
   "metadata": {},
   "outputs": [],
   "source": [
    "# appid_df = pd.DataFrame(app_ids, columns=['app id'])\n",
    "# display(appid_df)"
   ]
  },
  {
   "cell_type": "code",
   "execution_count": 11,
   "id": "0784d7f8",
   "metadata": {},
   "outputs": [
    {
     "data": {
      "text/html": [
       "<div>\n",
       "<style scoped>\n",
       "    .dataframe tbody tr th:only-of-type {\n",
       "        vertical-align: middle;\n",
       "    }\n",
       "\n",
       "    .dataframe tbody tr th {\n",
       "        vertical-align: top;\n",
       "    }\n",
       "\n",
       "    .dataframe thead th {\n",
       "        text-align: right;\n",
       "    }\n",
       "</style>\n",
       "<table border=\"1\" class=\"dataframe\">\n",
       "  <thead>\n",
       "    <tr style=\"text-align: right;\">\n",
       "      <th></th>\n",
       "      <th>app id</th>\n",
       "      <th>data safety url</th>\n",
       "    </tr>\n",
       "  </thead>\n",
       "  <tbody>\n",
       "    <tr>\n",
       "      <th>0</th>\n",
       "      <td>com.microsoft.office.word</td>\n",
       "      <td>https://play.google.com/store/apps/datasafety?id=com.microsoft.office.word</td>\n",
       "    </tr>\n",
       "    <tr>\n",
       "      <th>1</th>\n",
       "      <td>com.google.android.apps.docs.editors.docs</td>\n",
       "      <td>https://play.google.com/store/apps/datasafety?id=com.google.android.apps.docs.editors.docs</td>\n",
       "    </tr>\n",
       "    <tr>\n",
       "      <th>2</th>\n",
       "      <td>com.palmmob.office2global</td>\n",
       "      <td>https://play.google.com/store/apps/datasafety?id=com.palmmob.office2global</td>\n",
       "    </tr>\n",
       "    <tr>\n",
       "      <th>3</th>\n",
       "      <td>com.officedocument.word.docx.document.viewer</td>\n",
       "      <td>https://play.google.com/store/apps/datasafety?id=com.officedocument.word.docx.document.viewer</td>\n",
       "    </tr>\n",
       "    <tr>\n",
       "      <th>4</th>\n",
       "      <td>cn.wps.moffice_eng</td>\n",
       "      <td>https://play.google.com/store/apps/datasafety?id=cn.wps.moffice_eng</td>\n",
       "    </tr>\n",
       "    <tr>\n",
       "      <th>5</th>\n",
       "      <td>com.peoplefun.wordcross</td>\n",
       "      <td>https://play.google.com/store/apps/datasafety?id=com.peoplefun.wordcross</td>\n",
       "    </tr>\n",
       "    <tr>\n",
       "      <th>6</th>\n",
       "      <td>com.officesuite.fileopener.fileviewer.all.document.reader.word.excel.pptx.pdf</td>\n",
       "      <td>https://play.google.com/store/apps/datasafety?id=com.officesuite.fileopener.fileviewer.all.document.reader.word.excel.pptx.pdf</td>\n",
       "    </tr>\n",
       "    <tr>\n",
       "      <th>7</th>\n",
       "      <td>com.microsoft.office.officehubrow</td>\n",
       "      <td>https://play.google.com/store/apps/datasafety?id=com.microsoft.office.officehubrow</td>\n",
       "    </tr>\n",
       "    <tr>\n",
       "      <th>8</th>\n",
       "      <td>com.bitmango.go.wordcookies</td>\n",
       "      <td>https://play.google.com/store/apps/datasafety?id=com.bitmango.go.wordcookies</td>\n",
       "    </tr>\n",
       "    <tr>\n",
       "      <th>9</th>\n",
       "      <td>ccom.legend.office.viewer</td>\n",
       "      <td>https://play.google.com/store/apps/datasafety?id=ccom.legend.office.viewer</td>\n",
       "    </tr>\n",
       "    <tr>\n",
       "      <th>10</th>\n",
       "      <td>com.mobisystems.office</td>\n",
       "      <td>https://play.google.com/store/apps/datasafety?id=com.mobisystems.office</td>\n",
       "    </tr>\n",
       "    <tr>\n",
       "      <th>11</th>\n",
       "      <td>com.wordgame.words.connect</td>\n",
       "      <td>https://play.google.com/store/apps/datasafety?id=com.wordgame.words.connect</td>\n",
       "    </tr>\n",
       "    <tr>\n",
       "      <th>12</th>\n",
       "      <td>com.oneup.word.search</td>\n",
       "      <td>https://play.google.com/store/apps/datasafety?id=com.oneup.word.search</td>\n",
       "    </tr>\n",
       "    <tr>\n",
       "      <th>13</th>\n",
       "      <td>com.platinumplayer.word.addict</td>\n",
       "      <td>https://play.google.com/store/apps/datasafety?id=com.platinumplayer.word.addict</td>\n",
       "    </tr>\n",
       "    <tr>\n",
       "      <th>14</th>\n",
       "      <td>com.zynga.words3</td>\n",
       "      <td>https://play.google.com/store/apps/datasafety?id=com.zynga.words3</td>\n",
       "    </tr>\n",
       "    <tr>\n",
       "      <th>15</th>\n",
       "      <td>com.zynga.words</td>\n",
       "      <td>https://play.google.com/store/apps/datasafety?id=com.zynga.words</td>\n",
       "    </tr>\n",
       "    <tr>\n",
       "      <th>16</th>\n",
       "      <td>com.fugo.wow</td>\n",
       "      <td>https://play.google.com/store/apps/datasafety?id=com.fugo.wow</td>\n",
       "    </tr>\n",
       "    <tr>\n",
       "      <th>17</th>\n",
       "      <td>in.playsimple.wordtrip</td>\n",
       "      <td>https://play.google.com/store/apps/datasafety?id=in.playsimple.wordtrip</td>\n",
       "    </tr>\n",
       "    <tr>\n",
       "      <th>18</th>\n",
       "      <td>com.zynga.wwf2.free</td>\n",
       "      <td>https://play.google.com/store/apps/datasafety?id=com.zynga.wwf2.free</td>\n",
       "    </tr>\n",
       "    <tr>\n",
       "      <th>19</th>\n",
       "      <td>com.tangramgames.gourddoll.wordcrush</td>\n",
       "      <td>https://play.google.com/store/apps/datasafety?id=com.tangramgames.gourddoll.wordcrush</td>\n",
       "    </tr>\n",
       "    <tr>\n",
       "      <th>20</th>\n",
       "      <td>com.pieyel.scrabble</td>\n",
       "      <td>https://play.google.com/store/apps/datasafety?id=com.pieyel.scrabble</td>\n",
       "    </tr>\n",
       "    <tr>\n",
       "      <th>21</th>\n",
       "      <td>com.marulgames.wordsurf</td>\n",
       "      <td>https://play.google.com/store/apps/datasafety?id=com.marulgames.wordsurf</td>\n",
       "    </tr>\n",
       "    <tr>\n",
       "      <th>22</th>\n",
       "      <td>word.connect.wordswipe.wordstacks.wordstory.wordscapes.word.games</td>\n",
       "      <td>https://play.google.com/store/apps/datasafety?id=word.connect.wordswipe.wordstacks.wordstory.wordscapes.word.games</td>\n",
       "    </tr>\n",
       "  </tbody>\n",
       "</table>\n",
       "</div>"
      ],
      "text/plain": [
       "                                                                           app id  \\\n",
       "0                                                       com.microsoft.office.word   \n",
       "1                                       com.google.android.apps.docs.editors.docs   \n",
       "2                                                       com.palmmob.office2global   \n",
       "3                                    com.officedocument.word.docx.document.viewer   \n",
       "4                                                              cn.wps.moffice_eng   \n",
       "5                                                         com.peoplefun.wordcross   \n",
       "6   com.officesuite.fileopener.fileviewer.all.document.reader.word.excel.pptx.pdf   \n",
       "7                                               com.microsoft.office.officehubrow   \n",
       "8                                                     com.bitmango.go.wordcookies   \n",
       "9                                                       ccom.legend.office.viewer   \n",
       "10                                                         com.mobisystems.office   \n",
       "11                                                     com.wordgame.words.connect   \n",
       "12                                                          com.oneup.word.search   \n",
       "13                                                 com.platinumplayer.word.addict   \n",
       "14                                                               com.zynga.words3   \n",
       "15                                                                com.zynga.words   \n",
       "16                                                                   com.fugo.wow   \n",
       "17                                                         in.playsimple.wordtrip   \n",
       "18                                                            com.zynga.wwf2.free   \n",
       "19                                           com.tangramgames.gourddoll.wordcrush   \n",
       "20                                                            com.pieyel.scrabble   \n",
       "21                                                        com.marulgames.wordsurf   \n",
       "22              word.connect.wordswipe.wordstacks.wordstory.wordscapes.word.games   \n",
       "\n",
       "                                                                                                                   data safety url  \n",
       "0                                                       https://play.google.com/store/apps/datasafety?id=com.microsoft.office.word  \n",
       "1                                       https://play.google.com/store/apps/datasafety?id=com.google.android.apps.docs.editors.docs  \n",
       "2                                                       https://play.google.com/store/apps/datasafety?id=com.palmmob.office2global  \n",
       "3                                    https://play.google.com/store/apps/datasafety?id=com.officedocument.word.docx.document.viewer  \n",
       "4                                                              https://play.google.com/store/apps/datasafety?id=cn.wps.moffice_eng  \n",
       "5                                                         https://play.google.com/store/apps/datasafety?id=com.peoplefun.wordcross  \n",
       "6   https://play.google.com/store/apps/datasafety?id=com.officesuite.fileopener.fileviewer.all.document.reader.word.excel.pptx.pdf  \n",
       "7                                               https://play.google.com/store/apps/datasafety?id=com.microsoft.office.officehubrow  \n",
       "8                                                     https://play.google.com/store/apps/datasafety?id=com.bitmango.go.wordcookies  \n",
       "9                                                       https://play.google.com/store/apps/datasafety?id=ccom.legend.office.viewer  \n",
       "10                                                         https://play.google.com/store/apps/datasafety?id=com.mobisystems.office  \n",
       "11                                                     https://play.google.com/store/apps/datasafety?id=com.wordgame.words.connect  \n",
       "12                                                          https://play.google.com/store/apps/datasafety?id=com.oneup.word.search  \n",
       "13                                                 https://play.google.com/store/apps/datasafety?id=com.platinumplayer.word.addict  \n",
       "14                                                               https://play.google.com/store/apps/datasafety?id=com.zynga.words3  \n",
       "15                                                                https://play.google.com/store/apps/datasafety?id=com.zynga.words  \n",
       "16                                                                   https://play.google.com/store/apps/datasafety?id=com.fugo.wow  \n",
       "17                                                         https://play.google.com/store/apps/datasafety?id=in.playsimple.wordtrip  \n",
       "18                                                            https://play.google.com/store/apps/datasafety?id=com.zynga.wwf2.free  \n",
       "19                                           https://play.google.com/store/apps/datasafety?id=com.tangramgames.gourddoll.wordcrush  \n",
       "20                                                            https://play.google.com/store/apps/datasafety?id=com.pieyel.scrabble  \n",
       "21                                                        https://play.google.com/store/apps/datasafety?id=com.marulgames.wordsurf  \n",
       "22              https://play.google.com/store/apps/datasafety?id=word.connect.wordswipe.wordstacks.wordstory.wordscapes.word.games  "
      ]
     },
     "metadata": {},
     "output_type": "display_data"
    }
   ],
   "source": [
    "# concatenate app id and data safety urls dfs\n",
    "df = pd.DataFrame(data_urls, columns=['data safety urls'])\n",
    "appid_df = pd.DataFrame(app_ids, columns=['app id'])\n",
    "pd.set_option('max_colwidth', 400)\n",
    "all_df = pd.concat([appid_df, df], axis=1, ignore_index=True)\n",
    "\n",
    "all_df.columns = ['app id', 'data safety url']\n",
    "display(all_df)"
   ]
  },
  {
   "cell_type": "code",
   "execution_count": 12,
   "id": "f6183a18",
   "metadata": {},
   "outputs": [
    {
     "name": "stdout",
     "output_type": "stream",
     "text": [
      "['https://play.google.com/store/apps/datasafety?id=com.microsoft.office.word'\n",
      " 'https://play.google.com/store/apps/datasafety?id=com.google.android.apps.docs.editors.docs'\n",
      " 'https://play.google.com/store/apps/datasafety?id=com.palmmob.office2global'\n",
      " 'https://play.google.com/store/apps/datasafety?id=com.officedocument.word.docx.document.viewer'\n",
      " 'https://play.google.com/store/apps/datasafety?id=cn.wps.moffice_eng'\n",
      " 'https://play.google.com/store/apps/datasafety?id=com.peoplefun.wordcross'\n",
      " 'https://play.google.com/store/apps/datasafety?id=com.officesuite.fileopener.fileviewer.all.document.reader.word.excel.pptx.pdf'\n",
      " 'https://play.google.com/store/apps/datasafety?id=com.microsoft.office.officehubrow'\n",
      " 'https://play.google.com/store/apps/datasafety?id=com.bitmango.go.wordcookies'\n",
      " 'https://play.google.com/store/apps/datasafety?id=ccom.legend.office.viewer'\n",
      " 'https://play.google.com/store/apps/datasafety?id=com.mobisystems.office'\n",
      " 'https://play.google.com/store/apps/datasafety?id=com.wordgame.words.connect'\n",
      " 'https://play.google.com/store/apps/datasafety?id=com.oneup.word.search'\n",
      " 'https://play.google.com/store/apps/datasafety?id=com.platinumplayer.word.addict'\n",
      " 'https://play.google.com/store/apps/datasafety?id=com.zynga.words3'\n",
      " 'https://play.google.com/store/apps/datasafety?id=com.zynga.words'\n",
      " 'https://play.google.com/store/apps/datasafety?id=com.fugo.wow'\n",
      " 'https://play.google.com/store/apps/datasafety?id=in.playsimple.wordtrip'\n",
      " 'https://play.google.com/store/apps/datasafety?id=com.zynga.wwf2.free'\n",
      " 'https://play.google.com/store/apps/datasafety?id=com.tangramgames.gourddoll.wordcrush'\n",
      " 'https://play.google.com/store/apps/datasafety?id=com.pieyel.scrabble'\n",
      " 'https://play.google.com/store/apps/datasafety?id=com.marulgames.wordsurf'\n",
      " 'https://play.google.com/store/apps/datasafety?id=word.connect.wordswipe.wordstacks.wordstory.wordscapes.word.games']\n"
     ]
    }
   ],
   "source": [
    "darr = all_df['data safety url'].to_numpy()\n",
    "print(darr)"
   ]
  },
  {
   "cell_type": "code",
   "execution_count": 13,
   "id": "2a11e8da",
   "metadata": {
    "scrolled": true
   },
   "outputs": [
    {
     "name": "stdout",
     "output_type": "stream",
     "text": [
      "https://play.google.com/store/apps/datasafety?id=com.microsoft.office.word\n",
      "2\n",
      "http://www.google.com/url?sa=j&url=http%3A%2F%2Fgo.microsoft.com%2Ffwlink%2F%3FLinkID%3D507380&uct=1665955836&usg=r6hIw-AYgrrIKKfFTzDf-d3Nrm0.\n"
     ]
    },
    {
     "name": "stderr",
     "output_type": "stream",
     "text": [
      "/var/folders/st/293fz_dj6651kb2w_fsgr6fx7894dv/T/ipykernel_69222/3170996930.py:8: FutureWarning: The frame.append method is deprecated and will be removed from pandas in a future version. Use pandas.concat instead.\n",
      "  df = df.append({'privacy_policy_url':press_button(driver,i)}, ignore_index=True)\n"
     ]
    },
    {
     "name": "stdout",
     "output_type": "stream",
     "text": [
      "https://play.google.com/store/apps/datasafety?id=com.google.android.apps.docs.editors.docs\n",
      "1\n",
      "https://policies.google.com/privacy\n"
     ]
    },
    {
     "name": "stderr",
     "output_type": "stream",
     "text": [
      "/var/folders/st/293fz_dj6651kb2w_fsgr6fx7894dv/T/ipykernel_69222/3170996930.py:8: FutureWarning: The frame.append method is deprecated and will be removed from pandas in a future version. Use pandas.concat instead.\n",
      "  df = df.append({'privacy_policy_url':press_button(driver,i)}, ignore_index=True)\n"
     ]
    },
    {
     "name": "stdout",
     "output_type": "stream",
     "text": [
      "https://play.google.com/store/apps/datasafety?id=com.palmmob.office2global\n",
      "2\n",
      "http://www.google.com/url?sa=j&url=http%3A%2F%2Fwww.palmmob.cn%2Fyinsi%2Fword2globalyinsi.html&uct=1665955836&usg=dbHKwAw00vLBBfNAp9Emmd8vapw.\n"
     ]
    },
    {
     "name": "stderr",
     "output_type": "stream",
     "text": [
      "/var/folders/st/293fz_dj6651kb2w_fsgr6fx7894dv/T/ipykernel_69222/3170996930.py:8: FutureWarning: The frame.append method is deprecated and will be removed from pandas in a future version. Use pandas.concat instead.\n",
      "  df = df.append({'privacy_policy_url':press_button(driver,i)}, ignore_index=True)\n"
     ]
    },
    {
     "name": "stdout",
     "output_type": "stream",
     "text": [
      "https://play.google.com/store/apps/datasafety?id=com.officedocument.word.docx.document.viewer\n",
      "N/A\n"
     ]
    },
    {
     "name": "stderr",
     "output_type": "stream",
     "text": [
      "/var/folders/st/293fz_dj6651kb2w_fsgr6fx7894dv/T/ipykernel_69222/3170996930.py:8: FutureWarning: The frame.append method is deprecated and will be removed from pandas in a future version. Use pandas.concat instead.\n",
      "  df = df.append({'privacy_policy_url':press_button(driver,i)}, ignore_index=True)\n"
     ]
    },
    {
     "name": "stdout",
     "output_type": "stream",
     "text": [
      "https://play.google.com/store/apps/datasafety?id=cn.wps.moffice_eng\n",
      "N/A\n"
     ]
    },
    {
     "name": "stderr",
     "output_type": "stream",
     "text": [
      "/var/folders/st/293fz_dj6651kb2w_fsgr6fx7894dv/T/ipykernel_69222/3170996930.py:8: FutureWarning: The frame.append method is deprecated and will be removed from pandas in a future version. Use pandas.concat instead.\n",
      "  df = df.append({'privacy_policy_url':press_button(driver,i)}, ignore_index=True)\n"
     ]
    },
    {
     "name": "stdout",
     "output_type": "stream",
     "text": [
      "https://play.google.com/store/apps/datasafety?id=com.peoplefun.wordcross\n",
      "2\n",
      "http://www.google.com/url?sa=j&url=http%3A%2F%2Fwww.peoplefun.com%2Fprivacy&uct=1665955836&usg=rcnsoveKp5jD8qsk1oEKfPeRU58.\n"
     ]
    },
    {
     "name": "stderr",
     "output_type": "stream",
     "text": [
      "/var/folders/st/293fz_dj6651kb2w_fsgr6fx7894dv/T/ipykernel_69222/3170996930.py:8: FutureWarning: The frame.append method is deprecated and will be removed from pandas in a future version. Use pandas.concat instead.\n",
      "  df = df.append({'privacy_policy_url':press_button(driver,i)}, ignore_index=True)\n"
     ]
    },
    {
     "name": "stdout",
     "output_type": "stream",
     "text": [
      "https://play.google.com/store/apps/datasafety?id=com.officesuite.fileopener.fileviewer.all.document.reader.word.excel.pptx.pdf\n",
      "N/A\n"
     ]
    },
    {
     "name": "stderr",
     "output_type": "stream",
     "text": [
      "/var/folders/st/293fz_dj6651kb2w_fsgr6fx7894dv/T/ipykernel_69222/3170996930.py:8: FutureWarning: The frame.append method is deprecated and will be removed from pandas in a future version. Use pandas.concat instead.\n",
      "  df = df.append({'privacy_policy_url':press_button(driver,i)}, ignore_index=True)\n"
     ]
    },
    {
     "name": "stdout",
     "output_type": "stream",
     "text": [
      "https://play.google.com/store/apps/datasafety?id=com.microsoft.office.officehubrow\n",
      "2\n",
      "http://www.google.com/url?sa=j&url=http%3A%2F%2Fgo.microsoft.com%2Ffwlink%2F%3FLinkID%3D507380&uct=1665955836&usg=r6hIw-AYgrrIKKfFTzDf-d3Nrm0.\n"
     ]
    },
    {
     "name": "stderr",
     "output_type": "stream",
     "text": [
      "/var/folders/st/293fz_dj6651kb2w_fsgr6fx7894dv/T/ipykernel_69222/3170996930.py:8: FutureWarning: The frame.append method is deprecated and will be removed from pandas in a future version. Use pandas.concat instead.\n",
      "  df = df.append({'privacy_policy_url':press_button(driver,i)}, ignore_index=True)\n"
     ]
    },
    {
     "name": "stdout",
     "output_type": "stream",
     "text": [
      "https://play.google.com/store/apps/datasafety?id=com.bitmango.go.wordcookies\n",
      "2\n",
      "https://www.bitmango.com/privacy-policy/\n"
     ]
    },
    {
     "name": "stderr",
     "output_type": "stream",
     "text": [
      "/var/folders/st/293fz_dj6651kb2w_fsgr6fx7894dv/T/ipykernel_69222/3170996930.py:8: FutureWarning: The frame.append method is deprecated and will be removed from pandas in a future version. Use pandas.concat instead.\n",
      "  df = df.append({'privacy_policy_url':press_button(driver,i)}, ignore_index=True)\n"
     ]
    },
    {
     "name": "stdout",
     "output_type": "stream",
     "text": [
      "https://play.google.com/store/apps/datasafety?id=ccom.legend.office.viewer\n",
      "N/A\n"
     ]
    },
    {
     "name": "stderr",
     "output_type": "stream",
     "text": [
      "/var/folders/st/293fz_dj6651kb2w_fsgr6fx7894dv/T/ipykernel_69222/3170996930.py:8: FutureWarning: The frame.append method is deprecated and will be removed from pandas in a future version. Use pandas.concat instead.\n",
      "  df = df.append({'privacy_policy_url':press_button(driver,i)}, ignore_index=True)\n"
     ]
    },
    {
     "name": "stdout",
     "output_type": "stream",
     "text": [
      "https://play.google.com/store/apps/datasafety?id=com.mobisystems.office\n",
      "2\n",
      "https://www.mobisystems.com/privacy-policy/\n"
     ]
    },
    {
     "name": "stderr",
     "output_type": "stream",
     "text": [
      "/var/folders/st/293fz_dj6651kb2w_fsgr6fx7894dv/T/ipykernel_69222/3170996930.py:8: FutureWarning: The frame.append method is deprecated and will be removed from pandas in a future version. Use pandas.concat instead.\n",
      "  df = df.append({'privacy_policy_url':press_button(driver,i)}, ignore_index=True)\n"
     ]
    },
    {
     "name": "stdout",
     "output_type": "stream",
     "text": [
      "https://play.google.com/store/apps/datasafety?id=com.wordgame.words.connect\n",
      "2\n",
      "https://www.zenlifegames.com/privacy/\n"
     ]
    },
    {
     "name": "stderr",
     "output_type": "stream",
     "text": [
      "/var/folders/st/293fz_dj6651kb2w_fsgr6fx7894dv/T/ipykernel_69222/3170996930.py:8: FutureWarning: The frame.append method is deprecated and will be removed from pandas in a future version. Use pandas.concat instead.\n",
      "  df = df.append({'privacy_policy_url':press_button(driver,i)}, ignore_index=True)\n"
     ]
    },
    {
     "name": "stdout",
     "output_type": "stream",
     "text": [
      "https://play.google.com/store/apps/datasafety?id=com.oneup.word.search\n",
      "2\n",
      "https://www.oneup.games/privacy.html\n"
     ]
    },
    {
     "name": "stderr",
     "output_type": "stream",
     "text": [
      "/var/folders/st/293fz_dj6651kb2w_fsgr6fx7894dv/T/ipykernel_69222/3170996930.py:8: FutureWarning: The frame.append method is deprecated and will be removed from pandas in a future version. Use pandas.concat instead.\n",
      "  df = df.append({'privacy_policy_url':press_button(driver,i)}, ignore_index=True)\n"
     ]
    },
    {
     "name": "stdout",
     "output_type": "stream",
     "text": [
      "https://play.google.com/store/apps/datasafety?id=com.platinumplayer.word.addict\n",
      "N/A\n"
     ]
    },
    {
     "name": "stderr",
     "output_type": "stream",
     "text": [
      "/var/folders/st/293fz_dj6651kb2w_fsgr6fx7894dv/T/ipykernel_69222/3170996930.py:8: FutureWarning: The frame.append method is deprecated and will be removed from pandas in a future version. Use pandas.concat instead.\n",
      "  df = df.append({'privacy_policy_url':press_button(driver,i)}, ignore_index=True)\n"
     ]
    },
    {
     "name": "stdout",
     "output_type": "stream",
     "text": [
      "https://play.google.com/store/apps/datasafety?id=com.zynga.words3\n",
      "2\n",
      "https://www.zynga.com/privacy/policy\n"
     ]
    },
    {
     "name": "stderr",
     "output_type": "stream",
     "text": [
      "/var/folders/st/293fz_dj6651kb2w_fsgr6fx7894dv/T/ipykernel_69222/3170996930.py:8: FutureWarning: The frame.append method is deprecated and will be removed from pandas in a future version. Use pandas.concat instead.\n",
      "  df = df.append({'privacy_policy_url':press_button(driver,i)}, ignore_index=True)\n"
     ]
    },
    {
     "name": "stdout",
     "output_type": "stream",
     "text": [
      "https://play.google.com/store/apps/datasafety?id=com.zynga.words\n",
      "2\n",
      "https://www.zynga.com/privacy/policy\n"
     ]
    },
    {
     "name": "stderr",
     "output_type": "stream",
     "text": [
      "/var/folders/st/293fz_dj6651kb2w_fsgr6fx7894dv/T/ipykernel_69222/3170996930.py:8: FutureWarning: The frame.append method is deprecated and will be removed from pandas in a future version. Use pandas.concat instead.\n",
      "  df = df.append({'privacy_policy_url':press_button(driver,i)}, ignore_index=True)\n"
     ]
    },
    {
     "name": "stdout",
     "output_type": "stream",
     "text": [
      "https://play.google.com/store/apps/datasafety?id=com.fugo.wow\n",
      "2\n",
      "https://fugo.com.tr/privacypolicy-wordsofwonders.html\n"
     ]
    },
    {
     "name": "stderr",
     "output_type": "stream",
     "text": [
      "/var/folders/st/293fz_dj6651kb2w_fsgr6fx7894dv/T/ipykernel_69222/3170996930.py:8: FutureWarning: The frame.append method is deprecated and will be removed from pandas in a future version. Use pandas.concat instead.\n",
      "  df = df.append({'privacy_policy_url':press_button(driver,i)}, ignore_index=True)\n"
     ]
    },
    {
     "name": "stdout",
     "output_type": "stream",
     "text": [
      "https://play.google.com/store/apps/datasafety?id=in.playsimple.wordtrip\n",
      "2\n",
      "https://playsimple.in/privacy\n"
     ]
    },
    {
     "name": "stderr",
     "output_type": "stream",
     "text": [
      "/var/folders/st/293fz_dj6651kb2w_fsgr6fx7894dv/T/ipykernel_69222/3170996930.py:8: FutureWarning: The frame.append method is deprecated and will be removed from pandas in a future version. Use pandas.concat instead.\n",
      "  df = df.append({'privacy_policy_url':press_button(driver,i)}, ignore_index=True)\n"
     ]
    },
    {
     "name": "stdout",
     "output_type": "stream",
     "text": [
      "https://play.google.com/store/apps/datasafety?id=com.zynga.wwf2.free\n",
      "2\n",
      "https://www.zynga.com/privacy/policy\n"
     ]
    },
    {
     "name": "stderr",
     "output_type": "stream",
     "text": [
      "/var/folders/st/293fz_dj6651kb2w_fsgr6fx7894dv/T/ipykernel_69222/3170996930.py:8: FutureWarning: The frame.append method is deprecated and will be removed from pandas in a future version. Use pandas.concat instead.\n",
      "  df = df.append({'privacy_policy_url':press_button(driver,i)}, ignore_index=True)\n"
     ]
    },
    {
     "name": "stdout",
     "output_type": "stream",
     "text": [
      "https://play.google.com/store/apps/datasafety?id=com.tangramgames.gourddoll.wordcrush\n",
      "1\n",
      "https://sites.google.com/view/wordcrush/privacy-policy\n"
     ]
    },
    {
     "name": "stderr",
     "output_type": "stream",
     "text": [
      "/var/folders/st/293fz_dj6651kb2w_fsgr6fx7894dv/T/ipykernel_69222/3170996930.py:8: FutureWarning: The frame.append method is deprecated and will be removed from pandas in a future version. Use pandas.concat instead.\n",
      "  df = df.append({'privacy_policy_url':press_button(driver,i)}, ignore_index=True)\n"
     ]
    },
    {
     "name": "stdout",
     "output_type": "stream",
     "text": [
      "https://play.google.com/store/apps/datasafety?id=com.pieyel.scrabble\n",
      "2\n",
      "https://www.google.com/url?sa=j&url=http%3A%2F%2Fscopely.com%2Fprivacy&uct=1665955836&usg=b14ycf_oIzRsc4wlg6rwJlGVen8.\n"
     ]
    },
    {
     "name": "stderr",
     "output_type": "stream",
     "text": [
      "/var/folders/st/293fz_dj6651kb2w_fsgr6fx7894dv/T/ipykernel_69222/3170996930.py:8: FutureWarning: The frame.append method is deprecated and will be removed from pandas in a future version. Use pandas.concat instead.\n",
      "  df = df.append({'privacy_policy_url':press_button(driver,i)}, ignore_index=True)\n"
     ]
    },
    {
     "name": "stdout",
     "output_type": "stream",
     "text": [
      "https://play.google.com/store/apps/datasafety?id=com.marulgames.wordsurf\n",
      "2\n",
      "http://marul.games/privacy_policy/word_surf_pp.html\n"
     ]
    },
    {
     "name": "stderr",
     "output_type": "stream",
     "text": [
      "/var/folders/st/293fz_dj6651kb2w_fsgr6fx7894dv/T/ipykernel_69222/3170996930.py:8: FutureWarning: The frame.append method is deprecated and will be removed from pandas in a future version. Use pandas.concat instead.\n",
      "  df = df.append({'privacy_policy_url':press_button(driver,i)}, ignore_index=True)\n"
     ]
    },
    {
     "name": "stdout",
     "output_type": "stream",
     "text": [
      "https://play.google.com/store/apps/datasafety?id=word.connect.wordswipe.wordstacks.wordstory.wordscapes.word.games\n",
      "2\n",
      "http://52.52.138.46/support/fantasyword/wordcross/policy.html\n"
     ]
    },
    {
     "name": "stderr",
     "output_type": "stream",
     "text": [
      "/var/folders/st/293fz_dj6651kb2w_fsgr6fx7894dv/T/ipykernel_69222/3170996930.py:8: FutureWarning: The frame.append method is deprecated and will be removed from pandas in a future version. Use pandas.concat instead.\n",
      "  df = df.append({'privacy_policy_url':press_button(driver,i)}, ignore_index=True)\n"
     ]
    }
   ],
   "source": [
    "# press privacy policy button on page\n",
    "driver = webdriver.Chrome()\n",
    "driver.implicitly_wait(2)\n",
    "temp = []\n",
    "df = pd.DataFrame(columns=['privacy_policy_url'])\n",
    "for i in darr:\n",
    "#     temp += press_button(driver, i)\n",
    "    df = df.append({'privacy_policy_url':press_button(driver,i)}, ignore_index=True)\n",
    "#     urls = urls.append({'privacy_policy_url': str(priv_url)}, ignore_index=True)\n",
    "#     print(i)\n",
    "# urls = url.concat(urls, df)\n",
    "# df.insert(loc=0, column = 'privacy_policy_url', value=temp)\n",
    "driver.close()\n",
    "# display(urls)"
   ]
  },
  {
   "cell_type": "code",
   "execution_count": 14,
   "id": "f3f1aecd",
   "metadata": {},
   "outputs": [
    {
     "data": {
      "text/html": [
       "<div>\n",
       "<style scoped>\n",
       "    .dataframe tbody tr th:only-of-type {\n",
       "        vertical-align: middle;\n",
       "    }\n",
       "\n",
       "    .dataframe tbody tr th {\n",
       "        vertical-align: top;\n",
       "    }\n",
       "\n",
       "    .dataframe thead th {\n",
       "        text-align: right;\n",
       "    }\n",
       "</style>\n",
       "<table border=\"1\" class=\"dataframe\">\n",
       "  <thead>\n",
       "    <tr style=\"text-align: right;\">\n",
       "      <th></th>\n",
       "      <th>privacy_policy_url</th>\n",
       "    </tr>\n",
       "  </thead>\n",
       "  <tbody>\n",
       "    <tr>\n",
       "      <th>0</th>\n",
       "      <td>http://www.google.com/url?sa=j&amp;url=http%3A%2F%2Fgo.microsoft.com%2Ffwlink%2F%3FLinkID%3D507380&amp;uct=1665955836&amp;usg=r6hIw-AYgrrIKKfFTzDf-d3Nrm0.</td>\n",
       "    </tr>\n",
       "    <tr>\n",
       "      <th>1</th>\n",
       "      <td>https://policies.google.com/privacy</td>\n",
       "    </tr>\n",
       "    <tr>\n",
       "      <th>2</th>\n",
       "      <td>http://www.google.com/url?sa=j&amp;url=http%3A%2F%2Fwww.palmmob.cn%2Fyinsi%2Fword2globalyinsi.html&amp;uct=1665955836&amp;usg=dbHKwAw00vLBBfNAp9Emmd8vapw.</td>\n",
       "    </tr>\n",
       "    <tr>\n",
       "      <th>3</th>\n",
       "      <td>N/A</td>\n",
       "    </tr>\n",
       "    <tr>\n",
       "      <th>4</th>\n",
       "      <td>N/A</td>\n",
       "    </tr>\n",
       "    <tr>\n",
       "      <th>5</th>\n",
       "      <td>http://www.google.com/url?sa=j&amp;url=http%3A%2F%2Fwww.peoplefun.com%2Fprivacy&amp;uct=1665955836&amp;usg=rcnsoveKp5jD8qsk1oEKfPeRU58.</td>\n",
       "    </tr>\n",
       "    <tr>\n",
       "      <th>6</th>\n",
       "      <td>N/A</td>\n",
       "    </tr>\n",
       "    <tr>\n",
       "      <th>7</th>\n",
       "      <td>http://www.google.com/url?sa=j&amp;url=http%3A%2F%2Fgo.microsoft.com%2Ffwlink%2F%3FLinkID%3D507380&amp;uct=1665955836&amp;usg=r6hIw-AYgrrIKKfFTzDf-d3Nrm0.</td>\n",
       "    </tr>\n",
       "    <tr>\n",
       "      <th>8</th>\n",
       "      <td>https://www.bitmango.com/privacy-policy/</td>\n",
       "    </tr>\n",
       "    <tr>\n",
       "      <th>9</th>\n",
       "      <td>N/A</td>\n",
       "    </tr>\n",
       "    <tr>\n",
       "      <th>10</th>\n",
       "      <td>https://www.mobisystems.com/privacy-policy/</td>\n",
       "    </tr>\n",
       "    <tr>\n",
       "      <th>11</th>\n",
       "      <td>https://www.zenlifegames.com/privacy/</td>\n",
       "    </tr>\n",
       "    <tr>\n",
       "      <th>12</th>\n",
       "      <td>https://www.oneup.games/privacy.html</td>\n",
       "    </tr>\n",
       "    <tr>\n",
       "      <th>13</th>\n",
       "      <td>N/A</td>\n",
       "    </tr>\n",
       "    <tr>\n",
       "      <th>14</th>\n",
       "      <td>https://www.zynga.com/privacy/policy</td>\n",
       "    </tr>\n",
       "    <tr>\n",
       "      <th>15</th>\n",
       "      <td>https://www.zynga.com/privacy/policy</td>\n",
       "    </tr>\n",
       "    <tr>\n",
       "      <th>16</th>\n",
       "      <td>https://fugo.com.tr/privacypolicy-wordsofwonders.html</td>\n",
       "    </tr>\n",
       "    <tr>\n",
       "      <th>17</th>\n",
       "      <td>https://playsimple.in/privacy</td>\n",
       "    </tr>\n",
       "    <tr>\n",
       "      <th>18</th>\n",
       "      <td>https://www.zynga.com/privacy/policy</td>\n",
       "    </tr>\n",
       "    <tr>\n",
       "      <th>19</th>\n",
       "      <td>https://sites.google.com/view/wordcrush/privacy-policy</td>\n",
       "    </tr>\n",
       "    <tr>\n",
       "      <th>20</th>\n",
       "      <td>https://www.google.com/url?sa=j&amp;url=http%3A%2F%2Fscopely.com%2Fprivacy&amp;uct=1665955836&amp;usg=b14ycf_oIzRsc4wlg6rwJlGVen8.</td>\n",
       "    </tr>\n",
       "    <tr>\n",
       "      <th>21</th>\n",
       "      <td>http://marul.games/privacy_policy/word_surf_pp.html</td>\n",
       "    </tr>\n",
       "    <tr>\n",
       "      <th>22</th>\n",
       "      <td>http://52.52.138.46/support/fantasyword/wordcross/policy.html</td>\n",
       "    </tr>\n",
       "  </tbody>\n",
       "</table>\n",
       "</div>"
      ],
      "text/plain": [
       "                                                                                                                                privacy_policy_url\n",
       "0   http://www.google.com/url?sa=j&url=http%3A%2F%2Fgo.microsoft.com%2Ffwlink%2F%3FLinkID%3D507380&uct=1665955836&usg=r6hIw-AYgrrIKKfFTzDf-d3Nrm0.\n",
       "1                                                                                                              https://policies.google.com/privacy\n",
       "2   http://www.google.com/url?sa=j&url=http%3A%2F%2Fwww.palmmob.cn%2Fyinsi%2Fword2globalyinsi.html&uct=1665955836&usg=dbHKwAw00vLBBfNAp9Emmd8vapw.\n",
       "3                                                                                                                                              N/A\n",
       "4                                                                                                                                              N/A\n",
       "5                      http://www.google.com/url?sa=j&url=http%3A%2F%2Fwww.peoplefun.com%2Fprivacy&uct=1665955836&usg=rcnsoveKp5jD8qsk1oEKfPeRU58.\n",
       "6                                                                                                                                              N/A\n",
       "7   http://www.google.com/url?sa=j&url=http%3A%2F%2Fgo.microsoft.com%2Ffwlink%2F%3FLinkID%3D507380&uct=1665955836&usg=r6hIw-AYgrrIKKfFTzDf-d3Nrm0.\n",
       "8                                                                                                         https://www.bitmango.com/privacy-policy/\n",
       "9                                                                                                                                              N/A\n",
       "10                                                                                                     https://www.mobisystems.com/privacy-policy/\n",
       "11                                                                                                           https://www.zenlifegames.com/privacy/\n",
       "12                                                                                                            https://www.oneup.games/privacy.html\n",
       "13                                                                                                                                             N/A\n",
       "14                                                                                                            https://www.zynga.com/privacy/policy\n",
       "15                                                                                                            https://www.zynga.com/privacy/policy\n",
       "16                                                                                           https://fugo.com.tr/privacypolicy-wordsofwonders.html\n",
       "17                                                                                                                   https://playsimple.in/privacy\n",
       "18                                                                                                            https://www.zynga.com/privacy/policy\n",
       "19                                                                                          https://sites.google.com/view/wordcrush/privacy-policy\n",
       "20                          https://www.google.com/url?sa=j&url=http%3A%2F%2Fscopely.com%2Fprivacy&uct=1665955836&usg=b14ycf_oIzRsc4wlg6rwJlGVen8.\n",
       "21                                                                                             http://marul.games/privacy_policy/word_surf_pp.html\n",
       "22                                                                                   http://52.52.138.46/support/fantasyword/wordcross/policy.html"
      ]
     },
     "metadata": {},
     "output_type": "display_data"
    }
   ],
   "source": [
    "display(df)"
   ]
  },
  {
   "cell_type": "code",
   "execution_count": 15,
   "id": "a75026d3",
   "metadata": {},
   "outputs": [
    {
     "data": {
      "text/html": [
       "<div>\n",
       "<style scoped>\n",
       "    .dataframe tbody tr th:only-of-type {\n",
       "        vertical-align: middle;\n",
       "    }\n",
       "\n",
       "    .dataframe tbody tr th {\n",
       "        vertical-align: top;\n",
       "    }\n",
       "\n",
       "    .dataframe thead th {\n",
       "        text-align: right;\n",
       "    }\n",
       "</style>\n",
       "<table border=\"1\" class=\"dataframe\">\n",
       "  <thead>\n",
       "    <tr style=\"text-align: right;\">\n",
       "      <th></th>\n",
       "      <th>app id</th>\n",
       "      <th>data safety url</th>\n",
       "    </tr>\n",
       "  </thead>\n",
       "  <tbody>\n",
       "    <tr>\n",
       "      <th>0</th>\n",
       "      <td>com.microsoft.office.word</td>\n",
       "      <td>https://play.google.com/store/apps/datasafety?id=com.microsoft.office.word</td>\n",
       "    </tr>\n",
       "    <tr>\n",
       "      <th>1</th>\n",
       "      <td>com.google.android.apps.docs.editors.docs</td>\n",
       "      <td>https://play.google.com/store/apps/datasafety?id=com.google.android.apps.docs.editors.docs</td>\n",
       "    </tr>\n",
       "    <tr>\n",
       "      <th>2</th>\n",
       "      <td>com.palmmob.office2global</td>\n",
       "      <td>https://play.google.com/store/apps/datasafety?id=com.palmmob.office2global</td>\n",
       "    </tr>\n",
       "    <tr>\n",
       "      <th>3</th>\n",
       "      <td>com.officedocument.word.docx.document.viewer</td>\n",
       "      <td>https://play.google.com/store/apps/datasafety?id=com.officedocument.word.docx.document.viewer</td>\n",
       "    </tr>\n",
       "    <tr>\n",
       "      <th>4</th>\n",
       "      <td>cn.wps.moffice_eng</td>\n",
       "      <td>https://play.google.com/store/apps/datasafety?id=cn.wps.moffice_eng</td>\n",
       "    </tr>\n",
       "    <tr>\n",
       "      <th>5</th>\n",
       "      <td>com.peoplefun.wordcross</td>\n",
       "      <td>https://play.google.com/store/apps/datasafety?id=com.peoplefun.wordcross</td>\n",
       "    </tr>\n",
       "    <tr>\n",
       "      <th>6</th>\n",
       "      <td>com.officesuite.fileopener.fileviewer.all.document.reader.word.excel.pptx.pdf</td>\n",
       "      <td>https://play.google.com/store/apps/datasafety?id=com.officesuite.fileopener.fileviewer.all.document.reader.word.excel.pptx.pdf</td>\n",
       "    </tr>\n",
       "    <tr>\n",
       "      <th>7</th>\n",
       "      <td>com.microsoft.office.officehubrow</td>\n",
       "      <td>https://play.google.com/store/apps/datasafety?id=com.microsoft.office.officehubrow</td>\n",
       "    </tr>\n",
       "    <tr>\n",
       "      <th>8</th>\n",
       "      <td>com.bitmango.go.wordcookies</td>\n",
       "      <td>https://play.google.com/store/apps/datasafety?id=com.bitmango.go.wordcookies</td>\n",
       "    </tr>\n",
       "    <tr>\n",
       "      <th>9</th>\n",
       "      <td>ccom.legend.office.viewer</td>\n",
       "      <td>https://play.google.com/store/apps/datasafety?id=ccom.legend.office.viewer</td>\n",
       "    </tr>\n",
       "    <tr>\n",
       "      <th>10</th>\n",
       "      <td>com.mobisystems.office</td>\n",
       "      <td>https://play.google.com/store/apps/datasafety?id=com.mobisystems.office</td>\n",
       "    </tr>\n",
       "    <tr>\n",
       "      <th>11</th>\n",
       "      <td>com.wordgame.words.connect</td>\n",
       "      <td>https://play.google.com/store/apps/datasafety?id=com.wordgame.words.connect</td>\n",
       "    </tr>\n",
       "    <tr>\n",
       "      <th>12</th>\n",
       "      <td>com.oneup.word.search</td>\n",
       "      <td>https://play.google.com/store/apps/datasafety?id=com.oneup.word.search</td>\n",
       "    </tr>\n",
       "    <tr>\n",
       "      <th>13</th>\n",
       "      <td>com.platinumplayer.word.addict</td>\n",
       "      <td>https://play.google.com/store/apps/datasafety?id=com.platinumplayer.word.addict</td>\n",
       "    </tr>\n",
       "    <tr>\n",
       "      <th>14</th>\n",
       "      <td>com.zynga.words3</td>\n",
       "      <td>https://play.google.com/store/apps/datasafety?id=com.zynga.words3</td>\n",
       "    </tr>\n",
       "    <tr>\n",
       "      <th>15</th>\n",
       "      <td>com.zynga.words</td>\n",
       "      <td>https://play.google.com/store/apps/datasafety?id=com.zynga.words</td>\n",
       "    </tr>\n",
       "    <tr>\n",
       "      <th>16</th>\n",
       "      <td>com.fugo.wow</td>\n",
       "      <td>https://play.google.com/store/apps/datasafety?id=com.fugo.wow</td>\n",
       "    </tr>\n",
       "    <tr>\n",
       "      <th>17</th>\n",
       "      <td>in.playsimple.wordtrip</td>\n",
       "      <td>https://play.google.com/store/apps/datasafety?id=in.playsimple.wordtrip</td>\n",
       "    </tr>\n",
       "    <tr>\n",
       "      <th>18</th>\n",
       "      <td>com.zynga.wwf2.free</td>\n",
       "      <td>https://play.google.com/store/apps/datasafety?id=com.zynga.wwf2.free</td>\n",
       "    </tr>\n",
       "    <tr>\n",
       "      <th>19</th>\n",
       "      <td>com.tangramgames.gourddoll.wordcrush</td>\n",
       "      <td>https://play.google.com/store/apps/datasafety?id=com.tangramgames.gourddoll.wordcrush</td>\n",
       "    </tr>\n",
       "    <tr>\n",
       "      <th>20</th>\n",
       "      <td>com.pieyel.scrabble</td>\n",
       "      <td>https://play.google.com/store/apps/datasafety?id=com.pieyel.scrabble</td>\n",
       "    </tr>\n",
       "    <tr>\n",
       "      <th>21</th>\n",
       "      <td>com.marulgames.wordsurf</td>\n",
       "      <td>https://play.google.com/store/apps/datasafety?id=com.marulgames.wordsurf</td>\n",
       "    </tr>\n",
       "    <tr>\n",
       "      <th>22</th>\n",
       "      <td>word.connect.wordswipe.wordstacks.wordstory.wordscapes.word.games</td>\n",
       "      <td>https://play.google.com/store/apps/datasafety?id=word.connect.wordswipe.wordstacks.wordstory.wordscapes.word.games</td>\n",
       "    </tr>\n",
       "  </tbody>\n",
       "</table>\n",
       "</div>"
      ],
      "text/plain": [
       "                                                                           app id  \\\n",
       "0                                                       com.microsoft.office.word   \n",
       "1                                       com.google.android.apps.docs.editors.docs   \n",
       "2                                                       com.palmmob.office2global   \n",
       "3                                    com.officedocument.word.docx.document.viewer   \n",
       "4                                                              cn.wps.moffice_eng   \n",
       "5                                                         com.peoplefun.wordcross   \n",
       "6   com.officesuite.fileopener.fileviewer.all.document.reader.word.excel.pptx.pdf   \n",
       "7                                               com.microsoft.office.officehubrow   \n",
       "8                                                     com.bitmango.go.wordcookies   \n",
       "9                                                       ccom.legend.office.viewer   \n",
       "10                                                         com.mobisystems.office   \n",
       "11                                                     com.wordgame.words.connect   \n",
       "12                                                          com.oneup.word.search   \n",
       "13                                                 com.platinumplayer.word.addict   \n",
       "14                                                               com.zynga.words3   \n",
       "15                                                                com.zynga.words   \n",
       "16                                                                   com.fugo.wow   \n",
       "17                                                         in.playsimple.wordtrip   \n",
       "18                                                            com.zynga.wwf2.free   \n",
       "19                                           com.tangramgames.gourddoll.wordcrush   \n",
       "20                                                            com.pieyel.scrabble   \n",
       "21                                                        com.marulgames.wordsurf   \n",
       "22              word.connect.wordswipe.wordstacks.wordstory.wordscapes.word.games   \n",
       "\n",
       "                                                                                                                   data safety url  \n",
       "0                                                       https://play.google.com/store/apps/datasafety?id=com.microsoft.office.word  \n",
       "1                                       https://play.google.com/store/apps/datasafety?id=com.google.android.apps.docs.editors.docs  \n",
       "2                                                       https://play.google.com/store/apps/datasafety?id=com.palmmob.office2global  \n",
       "3                                    https://play.google.com/store/apps/datasafety?id=com.officedocument.word.docx.document.viewer  \n",
       "4                                                              https://play.google.com/store/apps/datasafety?id=cn.wps.moffice_eng  \n",
       "5                                                         https://play.google.com/store/apps/datasafety?id=com.peoplefun.wordcross  \n",
       "6   https://play.google.com/store/apps/datasafety?id=com.officesuite.fileopener.fileviewer.all.document.reader.word.excel.pptx.pdf  \n",
       "7                                               https://play.google.com/store/apps/datasafety?id=com.microsoft.office.officehubrow  \n",
       "8                                                     https://play.google.com/store/apps/datasafety?id=com.bitmango.go.wordcookies  \n",
       "9                                                       https://play.google.com/store/apps/datasafety?id=ccom.legend.office.viewer  \n",
       "10                                                         https://play.google.com/store/apps/datasafety?id=com.mobisystems.office  \n",
       "11                                                     https://play.google.com/store/apps/datasafety?id=com.wordgame.words.connect  \n",
       "12                                                          https://play.google.com/store/apps/datasafety?id=com.oneup.word.search  \n",
       "13                                                 https://play.google.com/store/apps/datasafety?id=com.platinumplayer.word.addict  \n",
       "14                                                               https://play.google.com/store/apps/datasafety?id=com.zynga.words3  \n",
       "15                                                                https://play.google.com/store/apps/datasafety?id=com.zynga.words  \n",
       "16                                                                   https://play.google.com/store/apps/datasafety?id=com.fugo.wow  \n",
       "17                                                         https://play.google.com/store/apps/datasafety?id=in.playsimple.wordtrip  \n",
       "18                                                            https://play.google.com/store/apps/datasafety?id=com.zynga.wwf2.free  \n",
       "19                                           https://play.google.com/store/apps/datasafety?id=com.tangramgames.gourddoll.wordcrush  \n",
       "20                                                            https://play.google.com/store/apps/datasafety?id=com.pieyel.scrabble  \n",
       "21                                                        https://play.google.com/store/apps/datasafety?id=com.marulgames.wordsurf  \n",
       "22              https://play.google.com/store/apps/datasafety?id=word.connect.wordswipe.wordstacks.wordstory.wordscapes.word.games  "
      ]
     },
     "metadata": {},
     "output_type": "display_data"
    }
   ],
   "source": [
    "display(all_df)"
   ]
  },
  {
   "cell_type": "code",
   "execution_count": 30,
   "id": "d52a807f",
   "metadata": {},
   "outputs": [
    {
     "name": "stdout",
     "output_type": "stream",
     "text": [
      "23\n",
      "23\n"
     ]
    },
    {
     "data": {
      "text/html": [
       "<div>\n",
       "<style scoped>\n",
       "    .dataframe tbody tr th:only-of-type {\n",
       "        vertical-align: middle;\n",
       "    }\n",
       "\n",
       "    .dataframe tbody tr th {\n",
       "        vertical-align: top;\n",
       "    }\n",
       "\n",
       "    .dataframe thead th {\n",
       "        text-align: right;\n",
       "    }\n",
       "</style>\n",
       "<table border=\"1\" class=\"dataframe\">\n",
       "  <thead>\n",
       "    <tr style=\"text-align: right;\">\n",
       "      <th></th>\n",
       "      <th>privacy_policy_url</th>\n",
       "      <th>one</th>\n",
       "      <th>app id</th>\n",
       "      <th>data safety url</th>\n",
       "      <th>one</th>\n",
       "    </tr>\n",
       "  </thead>\n",
       "  <tbody>\n",
       "    <tr>\n",
       "      <th>0</th>\n",
       "      <td>http://www.google.com/url?sa=j&amp;url=http%3A%2F%2Fgo.microsoft.com%2Ffwlink%2F%3FLinkID%3D507380&amp;uct=1665955836&amp;usg=r6hIw-AYgrrIKKfFTzDf-d3Nrm0.</td>\n",
       "      <td>1</td>\n",
       "      <td>com.microsoft.office.word</td>\n",
       "      <td>https://play.google.com/store/apps/datasafety?id=com.microsoft.office.word</td>\n",
       "      <td>1</td>\n",
       "    </tr>\n",
       "    <tr>\n",
       "      <th>1</th>\n",
       "      <td>https://policies.google.com/privacy</td>\n",
       "      <td>1</td>\n",
       "      <td>com.google.android.apps.docs.editors.docs</td>\n",
       "      <td>https://play.google.com/store/apps/datasafety?id=com.google.android.apps.docs.editors.docs</td>\n",
       "      <td>1</td>\n",
       "    </tr>\n",
       "    <tr>\n",
       "      <th>2</th>\n",
       "      <td>http://www.google.com/url?sa=j&amp;url=http%3A%2F%2Fwww.palmmob.cn%2Fyinsi%2Fword2globalyinsi.html&amp;uct=1665955836&amp;usg=dbHKwAw00vLBBfNAp9Emmd8vapw.</td>\n",
       "      <td>1</td>\n",
       "      <td>com.palmmob.office2global</td>\n",
       "      <td>https://play.google.com/store/apps/datasafety?id=com.palmmob.office2global</td>\n",
       "      <td>1</td>\n",
       "    </tr>\n",
       "    <tr>\n",
       "      <th>3</th>\n",
       "      <td>N/A</td>\n",
       "      <td>1</td>\n",
       "      <td>com.officedocument.word.docx.document.viewer</td>\n",
       "      <td>https://play.google.com/store/apps/datasafety?id=com.officedocument.word.docx.document.viewer</td>\n",
       "      <td>1</td>\n",
       "    </tr>\n",
       "    <tr>\n",
       "      <th>4</th>\n",
       "      <td>N/A</td>\n",
       "      <td>1</td>\n",
       "      <td>cn.wps.moffice_eng</td>\n",
       "      <td>https://play.google.com/store/apps/datasafety?id=cn.wps.moffice_eng</td>\n",
       "      <td>1</td>\n",
       "    </tr>\n",
       "    <tr>\n",
       "      <th>5</th>\n",
       "      <td>http://www.google.com/url?sa=j&amp;url=http%3A%2F%2Fwww.peoplefun.com%2Fprivacy&amp;uct=1665955836&amp;usg=rcnsoveKp5jD8qsk1oEKfPeRU58.</td>\n",
       "      <td>1</td>\n",
       "      <td>com.peoplefun.wordcross</td>\n",
       "      <td>https://play.google.com/store/apps/datasafety?id=com.peoplefun.wordcross</td>\n",
       "      <td>1</td>\n",
       "    </tr>\n",
       "    <tr>\n",
       "      <th>6</th>\n",
       "      <td>N/A</td>\n",
       "      <td>1</td>\n",
       "      <td>com.officesuite.fileopener.fileviewer.all.document.reader.word.excel.pptx.pdf</td>\n",
       "      <td>https://play.google.com/store/apps/datasafety?id=com.officesuite.fileopener.fileviewer.all.document.reader.word.excel.pptx.pdf</td>\n",
       "      <td>1</td>\n",
       "    </tr>\n",
       "    <tr>\n",
       "      <th>7</th>\n",
       "      <td>http://www.google.com/url?sa=j&amp;url=http%3A%2F%2Fgo.microsoft.com%2Ffwlink%2F%3FLinkID%3D507380&amp;uct=1665955836&amp;usg=r6hIw-AYgrrIKKfFTzDf-d3Nrm0.</td>\n",
       "      <td>1</td>\n",
       "      <td>com.microsoft.office.officehubrow</td>\n",
       "      <td>https://play.google.com/store/apps/datasafety?id=com.microsoft.office.officehubrow</td>\n",
       "      <td>1</td>\n",
       "    </tr>\n",
       "    <tr>\n",
       "      <th>8</th>\n",
       "      <td>https://www.bitmango.com/privacy-policy/</td>\n",
       "      <td>1</td>\n",
       "      <td>com.bitmango.go.wordcookies</td>\n",
       "      <td>https://play.google.com/store/apps/datasafety?id=com.bitmango.go.wordcookies</td>\n",
       "      <td>1</td>\n",
       "    </tr>\n",
       "    <tr>\n",
       "      <th>9</th>\n",
       "      <td>N/A</td>\n",
       "      <td>1</td>\n",
       "      <td>ccom.legend.office.viewer</td>\n",
       "      <td>https://play.google.com/store/apps/datasafety?id=ccom.legend.office.viewer</td>\n",
       "      <td>1</td>\n",
       "    </tr>\n",
       "    <tr>\n",
       "      <th>10</th>\n",
       "      <td>https://www.mobisystems.com/privacy-policy/</td>\n",
       "      <td>1</td>\n",
       "      <td>com.mobisystems.office</td>\n",
       "      <td>https://play.google.com/store/apps/datasafety?id=com.mobisystems.office</td>\n",
       "      <td>1</td>\n",
       "    </tr>\n",
       "    <tr>\n",
       "      <th>11</th>\n",
       "      <td>https://www.zenlifegames.com/privacy/</td>\n",
       "      <td>1</td>\n",
       "      <td>com.wordgame.words.connect</td>\n",
       "      <td>https://play.google.com/store/apps/datasafety?id=com.wordgame.words.connect</td>\n",
       "      <td>1</td>\n",
       "    </tr>\n",
       "    <tr>\n",
       "      <th>12</th>\n",
       "      <td>https://www.oneup.games/privacy.html</td>\n",
       "      <td>1</td>\n",
       "      <td>com.oneup.word.search</td>\n",
       "      <td>https://play.google.com/store/apps/datasafety?id=com.oneup.word.search</td>\n",
       "      <td>1</td>\n",
       "    </tr>\n",
       "    <tr>\n",
       "      <th>13</th>\n",
       "      <td>N/A</td>\n",
       "      <td>1</td>\n",
       "      <td>com.platinumplayer.word.addict</td>\n",
       "      <td>https://play.google.com/store/apps/datasafety?id=com.platinumplayer.word.addict</td>\n",
       "      <td>1</td>\n",
       "    </tr>\n",
       "    <tr>\n",
       "      <th>14</th>\n",
       "      <td>https://www.zynga.com/privacy/policy</td>\n",
       "      <td>1</td>\n",
       "      <td>com.zynga.words3</td>\n",
       "      <td>https://play.google.com/store/apps/datasafety?id=com.zynga.words3</td>\n",
       "      <td>1</td>\n",
       "    </tr>\n",
       "    <tr>\n",
       "      <th>15</th>\n",
       "      <td>https://www.zynga.com/privacy/policy</td>\n",
       "      <td>1</td>\n",
       "      <td>com.zynga.words</td>\n",
       "      <td>https://play.google.com/store/apps/datasafety?id=com.zynga.words</td>\n",
       "      <td>1</td>\n",
       "    </tr>\n",
       "    <tr>\n",
       "      <th>16</th>\n",
       "      <td>https://fugo.com.tr/privacypolicy-wordsofwonders.html</td>\n",
       "      <td>1</td>\n",
       "      <td>com.fugo.wow</td>\n",
       "      <td>https://play.google.com/store/apps/datasafety?id=com.fugo.wow</td>\n",
       "      <td>1</td>\n",
       "    </tr>\n",
       "    <tr>\n",
       "      <th>17</th>\n",
       "      <td>https://playsimple.in/privacy</td>\n",
       "      <td>1</td>\n",
       "      <td>in.playsimple.wordtrip</td>\n",
       "      <td>https://play.google.com/store/apps/datasafety?id=in.playsimple.wordtrip</td>\n",
       "      <td>1</td>\n",
       "    </tr>\n",
       "    <tr>\n",
       "      <th>18</th>\n",
       "      <td>https://www.zynga.com/privacy/policy</td>\n",
       "      <td>1</td>\n",
       "      <td>com.zynga.wwf2.free</td>\n",
       "      <td>https://play.google.com/store/apps/datasafety?id=com.zynga.wwf2.free</td>\n",
       "      <td>1</td>\n",
       "    </tr>\n",
       "    <tr>\n",
       "      <th>19</th>\n",
       "      <td>https://sites.google.com/view/wordcrush/privacy-policy</td>\n",
       "      <td>1</td>\n",
       "      <td>com.tangramgames.gourddoll.wordcrush</td>\n",
       "      <td>https://play.google.com/store/apps/datasafety?id=com.tangramgames.gourddoll.wordcrush</td>\n",
       "      <td>1</td>\n",
       "    </tr>\n",
       "    <tr>\n",
       "      <th>20</th>\n",
       "      <td>https://www.google.com/url?sa=j&amp;url=http%3A%2F%2Fscopely.com%2Fprivacy&amp;uct=1665955836&amp;usg=b14ycf_oIzRsc4wlg6rwJlGVen8.</td>\n",
       "      <td>1</td>\n",
       "      <td>com.pieyel.scrabble</td>\n",
       "      <td>https://play.google.com/store/apps/datasafety?id=com.pieyel.scrabble</td>\n",
       "      <td>1</td>\n",
       "    </tr>\n",
       "    <tr>\n",
       "      <th>21</th>\n",
       "      <td>http://marul.games/privacy_policy/word_surf_pp.html</td>\n",
       "      <td>1</td>\n",
       "      <td>com.marulgames.wordsurf</td>\n",
       "      <td>https://play.google.com/store/apps/datasafety?id=com.marulgames.wordsurf</td>\n",
       "      <td>1</td>\n",
       "    </tr>\n",
       "    <tr>\n",
       "      <th>22</th>\n",
       "      <td>http://52.52.138.46/support/fantasyword/wordcross/policy.html</td>\n",
       "      <td>1</td>\n",
       "      <td>word.connect.wordswipe.wordstacks.wordstory.wordscapes.word.games</td>\n",
       "      <td>https://play.google.com/store/apps/datasafety?id=word.connect.wordswipe.wordstacks.wordstory.wordscapes.word.games</td>\n",
       "      <td>1</td>\n",
       "    </tr>\n",
       "  </tbody>\n",
       "</table>\n",
       "</div>"
      ],
      "text/plain": [
       "                                                                                                                                privacy_policy_url  \\\n",
       "0   http://www.google.com/url?sa=j&url=http%3A%2F%2Fgo.microsoft.com%2Ffwlink%2F%3FLinkID%3D507380&uct=1665955836&usg=r6hIw-AYgrrIKKfFTzDf-d3Nrm0.   \n",
       "1                                                                                                              https://policies.google.com/privacy   \n",
       "2   http://www.google.com/url?sa=j&url=http%3A%2F%2Fwww.palmmob.cn%2Fyinsi%2Fword2globalyinsi.html&uct=1665955836&usg=dbHKwAw00vLBBfNAp9Emmd8vapw.   \n",
       "3                                                                                                                                              N/A   \n",
       "4                                                                                                                                              N/A   \n",
       "5                      http://www.google.com/url?sa=j&url=http%3A%2F%2Fwww.peoplefun.com%2Fprivacy&uct=1665955836&usg=rcnsoveKp5jD8qsk1oEKfPeRU58.   \n",
       "6                                                                                                                                              N/A   \n",
       "7   http://www.google.com/url?sa=j&url=http%3A%2F%2Fgo.microsoft.com%2Ffwlink%2F%3FLinkID%3D507380&uct=1665955836&usg=r6hIw-AYgrrIKKfFTzDf-d3Nrm0.   \n",
       "8                                                                                                         https://www.bitmango.com/privacy-policy/   \n",
       "9                                                                                                                                              N/A   \n",
       "10                                                                                                     https://www.mobisystems.com/privacy-policy/   \n",
       "11                                                                                                           https://www.zenlifegames.com/privacy/   \n",
       "12                                                                                                            https://www.oneup.games/privacy.html   \n",
       "13                                                                                                                                             N/A   \n",
       "14                                                                                                            https://www.zynga.com/privacy/policy   \n",
       "15                                                                                                            https://www.zynga.com/privacy/policy   \n",
       "16                                                                                           https://fugo.com.tr/privacypolicy-wordsofwonders.html   \n",
       "17                                                                                                                   https://playsimple.in/privacy   \n",
       "18                                                                                                            https://www.zynga.com/privacy/policy   \n",
       "19                                                                                          https://sites.google.com/view/wordcrush/privacy-policy   \n",
       "20                          https://www.google.com/url?sa=j&url=http%3A%2F%2Fscopely.com%2Fprivacy&uct=1665955836&usg=b14ycf_oIzRsc4wlg6rwJlGVen8.   \n",
       "21                                                                                             http://marul.games/privacy_policy/word_surf_pp.html   \n",
       "22                                                                                   http://52.52.138.46/support/fantasyword/wordcross/policy.html   \n",
       "\n",
       "    one  \\\n",
       "0     1   \n",
       "1     1   \n",
       "2     1   \n",
       "3     1   \n",
       "4     1   \n",
       "5     1   \n",
       "6     1   \n",
       "7     1   \n",
       "8     1   \n",
       "9     1   \n",
       "10    1   \n",
       "11    1   \n",
       "12    1   \n",
       "13    1   \n",
       "14    1   \n",
       "15    1   \n",
       "16    1   \n",
       "17    1   \n",
       "18    1   \n",
       "19    1   \n",
       "20    1   \n",
       "21    1   \n",
       "22    1   \n",
       "\n",
       "                                                                           app id  \\\n",
       "0                                                       com.microsoft.office.word   \n",
       "1                                       com.google.android.apps.docs.editors.docs   \n",
       "2                                                       com.palmmob.office2global   \n",
       "3                                    com.officedocument.word.docx.document.viewer   \n",
       "4                                                              cn.wps.moffice_eng   \n",
       "5                                                         com.peoplefun.wordcross   \n",
       "6   com.officesuite.fileopener.fileviewer.all.document.reader.word.excel.pptx.pdf   \n",
       "7                                               com.microsoft.office.officehubrow   \n",
       "8                                                     com.bitmango.go.wordcookies   \n",
       "9                                                       ccom.legend.office.viewer   \n",
       "10                                                         com.mobisystems.office   \n",
       "11                                                     com.wordgame.words.connect   \n",
       "12                                                          com.oneup.word.search   \n",
       "13                                                 com.platinumplayer.word.addict   \n",
       "14                                                               com.zynga.words3   \n",
       "15                                                                com.zynga.words   \n",
       "16                                                                   com.fugo.wow   \n",
       "17                                                         in.playsimple.wordtrip   \n",
       "18                                                            com.zynga.wwf2.free   \n",
       "19                                           com.tangramgames.gourddoll.wordcrush   \n",
       "20                                                            com.pieyel.scrabble   \n",
       "21                                                        com.marulgames.wordsurf   \n",
       "22              word.connect.wordswipe.wordstacks.wordstory.wordscapes.word.games   \n",
       "\n",
       "                                                                                                                   data safety url  \\\n",
       "0                                                       https://play.google.com/store/apps/datasafety?id=com.microsoft.office.word   \n",
       "1                                       https://play.google.com/store/apps/datasafety?id=com.google.android.apps.docs.editors.docs   \n",
       "2                                                       https://play.google.com/store/apps/datasafety?id=com.palmmob.office2global   \n",
       "3                                    https://play.google.com/store/apps/datasafety?id=com.officedocument.word.docx.document.viewer   \n",
       "4                                                              https://play.google.com/store/apps/datasafety?id=cn.wps.moffice_eng   \n",
       "5                                                         https://play.google.com/store/apps/datasafety?id=com.peoplefun.wordcross   \n",
       "6   https://play.google.com/store/apps/datasafety?id=com.officesuite.fileopener.fileviewer.all.document.reader.word.excel.pptx.pdf   \n",
       "7                                               https://play.google.com/store/apps/datasafety?id=com.microsoft.office.officehubrow   \n",
       "8                                                     https://play.google.com/store/apps/datasafety?id=com.bitmango.go.wordcookies   \n",
       "9                                                       https://play.google.com/store/apps/datasafety?id=ccom.legend.office.viewer   \n",
       "10                                                         https://play.google.com/store/apps/datasafety?id=com.mobisystems.office   \n",
       "11                                                     https://play.google.com/store/apps/datasafety?id=com.wordgame.words.connect   \n",
       "12                                                          https://play.google.com/store/apps/datasafety?id=com.oneup.word.search   \n",
       "13                                                 https://play.google.com/store/apps/datasafety?id=com.platinumplayer.word.addict   \n",
       "14                                                               https://play.google.com/store/apps/datasafety?id=com.zynga.words3   \n",
       "15                                                                https://play.google.com/store/apps/datasafety?id=com.zynga.words   \n",
       "16                                                                   https://play.google.com/store/apps/datasafety?id=com.fugo.wow   \n",
       "17                                                         https://play.google.com/store/apps/datasafety?id=in.playsimple.wordtrip   \n",
       "18                                                            https://play.google.com/store/apps/datasafety?id=com.zynga.wwf2.free   \n",
       "19                                           https://play.google.com/store/apps/datasafety?id=com.tangramgames.gourddoll.wordcrush   \n",
       "20                                                            https://play.google.com/store/apps/datasafety?id=com.pieyel.scrabble   \n",
       "21                                                        https://play.google.com/store/apps/datasafety?id=com.marulgames.wordsurf   \n",
       "22              https://play.google.com/store/apps/datasafety?id=word.connect.wordswipe.wordstacks.wordstory.wordscapes.word.games   \n",
       "\n",
       "    one  \n",
       "0     1  \n",
       "1     1  \n",
       "2     1  \n",
       "3     1  \n",
       "4     1  \n",
       "5     1  \n",
       "6     1  \n",
       "7     1  \n",
       "8     1  \n",
       "9     1  \n",
       "10    1  \n",
       "11    1  \n",
       "12    1  \n",
       "13    1  \n",
       "14    1  \n",
       "15    1  \n",
       "16    1  \n",
       "17    1  \n",
       "18    1  \n",
       "19    1  \n",
       "20    1  \n",
       "21    1  \n",
       "22    1  "
      ]
     },
     "metadata": {},
     "output_type": "display_data"
    }
   ],
   "source": [
    "print(len(df.index))\n",
    "print(len(all_df.index))\n",
    "\n",
    "\n",
    "merged = pd.concat([df, all_df], axis=1)\n",
    "display(merged)"
   ]
  },
  {
   "cell_type": "code",
   "execution_count": 18,
   "id": "107e9966",
   "metadata": {},
   "outputs": [
    {
     "name": "stdout",
     "output_type": "stream",
     "text": [
      "https://play.google.com/store/apps/datasafety?id=com.apple.atve.androidtv.appletv\n",
      "https://www.apple.com/legal/privacy/en-ww/\n"
     ]
    }
   ],
   "source": [
    "# driver = webdriver.Chrome()\n",
    "# driver.implicitly_wait(2)\n",
    "# temp = press_button(driver, \"https://play.google.com/store/apps/datasafety?id=com.apple.atve.androidtv.appletv\")\n",
    "# df.insert(loc=1, column = 'privacy policy url', value=temp)\n",
    "# driver.close()"
   ]
  },
  {
   "cell_type": "code",
   "execution_count": 64,
   "id": "8ca15cf5",
   "metadata": {},
   "outputs": [],
   "source": [
    "link = \"https://www.apple.com/legal/privacy/pdfs/apple-privacy-policy-en-ww.pdf\"\n",
    "policy = []\n",
    "\n",
    "r = requests.get(link)\n",
    "f = io.BytesIO(r.content)\n",
    "\n",
    "reader = PdfFileReader(f)\n",
    "count = reader.numPages\n",
    "\n",
    "for i in range(count):\n",
    "    policy += reader.getPage(i).extractText().split('\\n')"
   ]
  },
  {
   "cell_type": "code",
   "execution_count": 65,
   "id": "72c5ead7",
   "metadata": {},
   "outputs": [
    {
     "name": "stdout",
     "output_type": "stream",
     "text": [
      "['Apple Privacy Policy Apple’s Privacy Policy describes how Apple collects, uses, and shares your personal data. Updated October 27, 2021  ', 'In addition to this Privacy Policy, we provide data and privacy information embedded in our products and certain features that ask to use your personal information. This product-specific information is accompanied by our Data & Privacy Icon.  You will be given an opportunity to review this product-specific information before using these features. You also can view this information at any time, either in settings related to those features and/or online at apple.com/legal/privacy/data.  Please take a moment to familiarize yourself with our privacy practices, accessible via the headings below, and contact us if you have questions. Your California Privacy Disclosures Information Regarding Commercial Electronic Messages in CanadaApple Health Study Apps Privacy Policy ', '', 'What Is Personal Data at Apple? At Apple, we believe strongly in fundamental privacy rights — and that those fundamental rights should not differ depending on where you live in the world. That’s why we treat any data that relates to an identified or identifiable individual or that is linked or linkable to them by Apple as “personal data,” no matter where the individual lives. This means that data that directly identifies you — such as your name — is personal data, and also data that does not directly identify you, but that can reasonably be used to identify you — such as the serial number of your device — is personal data. Aggregated data is considered non-personal data for the purposes of this Privacy Policy. This Privacy Policy covers how Apple or an Apple-affiliated company (collectively, “Apple”) handles personal data whether you interact with us on our websites, through Apple apps (such as Apple Music or Wallet), or in person (including by phone or when visiting our retail stores). Apple may also link to third parties on our services or make third-party apps available for download in our App Store. Apple’s Privacy Policy does not apply to how third parties define personal data or how they use it. We encourage you to read their privacy policies and know your privacy rights before interacting with them.  Your Privacy Rights at Apple At Apple, we respect your ability to know, access, correct, transfer, restrict the processing of, and delete your personal data. We have provided these rights to our global customer base and if you choose to exercise these privacy rights, you have the right not to be treated in a discriminatory way nor to receive a lesser degree of service from Apple. Apple does not sell your data including as “sale” is defined in Nevada and California.  To exercise your privacy rights and choices including where a third-par ty service provider is acting on Apple’s behalf, visit the Apple Data and Privacy page at privacy.apple.com for Apple or shazam.com/privacy for Shazam. To help protect the security of your personal data, you must sign in to your account and your identity will be verified. If the Data and Privacy page is not available in your region, you can make privacy rights requests at apple.com/legal/privacy/contact.  What Is Personal Data at Apple? Your Privacy Rights at Apple Personal Data Apple Collects from You Personal Data Apple Receives from Other Sources Apple’s Use of Personal Data Apple’s Sharing of Personal Data Protection of Personal Data at Apple Children and Personal Data Cookies and Other Technologies Transfer of Personal Data Between Countries Our Companywide Commitment to Your Privacy Privacy Questions', ' 2', 'There may be situations where we cannot grant your request — for example, if you ask us to delete your transaction data and Apple is legally obligated to keep a record of that transaction to comply with law. We may also decline to grant a request where doing so would undermine our legitimate use of data for anti-fraud and security purposes, such as when you request deletion of an account that is being investigated for security concerns. Other reasons your privacy request may be denied are if it jeopardizes the privacy of others, is frivolous or vexatious, or would be extremely impractical. If you live in California, if you cannot access Apple’s Data and Privacy page, you or your authorized agent can make a request at apple.com/legal/privacy/contact\\xa0or by calling 1-800-275-2273. For more information on exercising your rights, visit support.apple.com/kb/HT208501.  Personal Data Apple Collects from You At Apple, we believe that you can have great products and great privacy. This means that we strive to collect only the personal data that we need. The personal data Apple collects depends on how you interact with Apple. Descriptions of how Apple handles personal data for certain individual services are available either in settings related to those features and/or at apple.com/legal/privacy/data. When you create an Apple ID, apply for commercial credit, purchase and/or activate a product or device, download a software update, register for a class at an Apple Store, connect to our services, contact us (including by social media), participate in an online survey, or otherwise interact with Apple, we may collect a variety of information, including: •Account Information. Your Apple ID and related account details, including email address, devices registered, account status, and age •Device Information. Data from which your device could be identified, such as device serial number, or about your device, such as browser type •Contact Information. Data such as name, email address, physical address, phone number, or other contact information •Payment Information. Data about your billing address and method of payment, such as bank details, credit, debit, or other payment card information •Transaction Information. Data about purchases of Apple products and services or transactions facilitated by Apple, including purchases on Apple platforms •Fraud Prevention Information. Data used to help identify and prevent fraud, including a device trust score •Usage Data. Data about your activity on and use of our offerings, such as app launches within our services, including browsing history; search history; product interaction; crash data, performance and other diagnostic data; and other usage data •Location Information. Precise location only to support Find My, and coarse location •Health Information. Data relating to the health status of an individual, including data related to one’s physical or mental health or condition. Personal health data also includes data that can be used to make inferences about or detect the health status of an individual. If you participate in a study using an Apple Health Research Study app, the policy governing the privacy of your personal data is described in the Apple Health Study Apps Privacy Policy. •Fitness Information. Details relating to your fitness and exercise information where you choose to share them  3', '•Financial Information. Details including salary, income, and assets information where collected, and information related to Apple-branded financial offerings •Government ID Data. In certain jurisdictions, we may ask for a government-issued ID in limited circumstances, including when setting up a wireless account and activating your device, for the purpose of extending commercial credit, managing reservations, or as required by law •Other Information You Provide to Us. Details such as the content of your communications with Apple, including interactions with customer support and contacts through social media channels You are not required to provide the personal data that we have requested. However, if you choose not to do so, in many cases we will not be able to provide you with our products or services or respond to requests you may have. Personal Data Apple Receives from Other Sources Apple may receive personal data about you from other individuals, from businesses or third parties acting at your direction, from our partners who work with us to provide our products and services and assist us in security and fraud prevention, and from other lawful sources. •Individuals. Apple may collect data about you from other individuals — for example, if that individual has sent you a product or gift card, invited you to participate in an Apple service or forum, or shared content with you.  •At Your Direction. You may direct other individuals or third parties to share data with Apple. For example, you may direct your mobile carrier to share data about your carrier account with Apple for account activation, or for your loyalty program to share information about your participation so that you can earn rewards for Apple purchases.  •Apple Partners. We may also validate the information you provide — for example, when creating an Apple ID, with a third party for security, and for fraud-prevention purposes. For research and development purposes, we may use datasets such as those that contain images, voices, or other data that could be associated with an identifiable person. When acquiring such datasets, we do so in accordance with applicable law, including law in the jurisdiction in which the dataset is hosted. When using such datasets for research and development, we do not attempt to reidentify individuals who may appear therein. Apple’s Use of Personal Data Apple uses personal data to power our services, to process your transactions, to communicate with you, for security and fraud prevention, and to comply with law. We may also use personal data for other purposes with your consent.  Apple uses your personal data only when we have a valid legal basis to do so. Depending on the circumstance, Apple may rely on your consent or the fact that the processing is necessary to fulfill a contract with you, protect your vital interests or those of other persons, or to comply with law. We may also process your personal data where we believe it is in our or others’ legitimate interests, taking into consideration your interests, rights, and expectations. If you have questions about the legal basis, you can contact the Data Protection Officer at apple.com/legal/privacy/contact. ', ' 4', \"•Power Our Services. Apple collects personal data necessary to power our services, which may include personal data collected to improve our offerings, for internal purposes such as auditing or data analysis, or for troubleshooting. For example, if you would like to access a song through an Apple Music subscription, we collect data on what songs you play in order to provide you with the content requested and for royalty purposes. •Process Your Transactions. To process transactions, Apple must collect data such as your name, purchase, and payment information. •Communicate with You. To respond to communications, reach out to you about your transactions or account, market our products and services, provide other relevant information, or request information or feedback. From time to time, we may use your personal data to send important notices, such as communications about purchases and changes to our terms, conditions, and policies. Because this information is important to your interaction with Apple, you may not opt out of receiving these important notices.  •Security and Fraud Prevention. To protect individuals, employees, and Apple and for loss prevention and to prevent fraud, including to protect individuals, employees, and Apple for the benefit of all our users, and prescreening or scanning uploaded content for potentially illegal content, including child sexual exploitation material. •Personal Data Used for Personalization. If you choose to personalize your services or communications where such options are available, Apple will use information that we collect so that we can offer you those personalized services or communications. You can learn more about how relevant services use information to personalize your experience by reviewing the privacy information presented when you first use a service that asks to use your personal data. We make this information easy to find by presenting it with our Data & Privacy icon; it's also available at all times on your Apple device and online at apple.com/legal/privacy/data.  •Comply with Law. To comply with applicable law — for example, to satisfy tax or reporting obligations, or to comply with a lawful governmental request. Apple does not use algorithms or profiling to make any decision that would significantly affect you without the opportunity for human review. Apple retains personal data only for so long as necessary to fulfill the purposes for which it was collected, including as described in this Privacy Policy or in our service-specific privacy notices, or as required by law. We will retain your personal data for the period necessary to fulfill the purposes outlined in this Privacy Policy and our service-specific privacy summaries. When assessing retention periods, we first carefully examine whether it is necessary to retain the personal data collected and, if retention is required, work to retain the personal data for the shortest possible period permissible under law. Apple’s Sharing of Personal Data Apple may share personal data with Apple-affiliated companies, service providers who act on our behalf, our partners, developers, and publishers, or others at your direction. Further, Apple does not share personal data with third parties for their own marketing purposes.  •Service Providers. Apple may engage third parties to act as our service providers and perform certain tasks on our behalf, such as processing or storing data, including personal data, in connection with your use of our services and delivering products to customers. Apple service providers are obligated to handle personal data consistent with this Privacy Policy and according to our instructions. They cannot use the  5\", \"personal data we share for their own purposes and must delete or return the personal data once they've fulfilled our request. •Partners. At times, Apple may partner with third parties to provide services or other offerings. For example, Apple financial offerings like Apple Card and Apple Cash are offered by Apple and our partners. Apple requires its partners to protect your personal data. •Developers and Publishers from Whom You Get a Subscription. If you purchase a third-party subscription from the App Store or within Apple News, we create a Subscriber ID that is unique to you and the developer or publisher. The Subscriber ID may be used to provide reports to the developer or publisher, which include information about the subscription you purchased and your country of residence. If you cancel all of your subscriptions from a particular developer or publisher, the Subscriber ID will reset after 180 days if you do not resubscribe. This information is provided to developers or publishers so that they can understand the performance of their subscriptions. •Others. Apple may share personal data with others at your direction or with your consent, such as when we share information with your carrier to activate your account. We may also disclose information about you if we determine that for purposes of national security, law enforcement, or other issues of public importance, disclosure is necessary or appropriate. We may also disclose information about you where there is a lawful basis for doing so, if we determine that disclosure is reasonably necessary to enforce our terms and conditions or to protect our operations or users, or in the event of a reorganization, merger, or sale. Protection of Personal Data at Apple At Apple, we believe that great privacy rests on great security. We use administrative, technical, and physical safeguards to protect your personal data, taking into account the nature of the personal data and the processing, and the threats posed. We are constantly working to improve on these safeguards to help keep your personal data secure. For more information, visit our Apple Platform Security guide.  Children and Personal Data Apple understands the importance of safeguarding the personal data of children, which we consider to be an individual under the age of 13 or the equivalent age as specified by law in your jurisdiction. That is why Apple has implemented additional processes and protections to help keep children's personal data safe. To access certain Apple services, a child must have a child Apple ID. A child Apple ID may be created by the parent or, in the case of a Managed Apple ID, by the child's educational institution. •Parents. To create a child account, parents must review the Family Privacy Disclosure for Children, which describes how Apple handles children's personal data. If they agree, the parent must provide Apple with a verifiable parental consent.  •Educational Institutions. Educational institutions that participate in the Apple School Manager Program may also create Apple IDs for students, called “Managed Apple IDs.” These schools are required to agree to the Managed Apple IDs for Students Disclosure which is included as Exhibit A to the Apple School Manager Agreement. If we learn that a child's personal data was collected without appropriate authorization, it will be deleted as soon as possible. To exercise privacy rights for your child's information, visit the Apple Data and Privacy page at privacy.apple.com and sign in to their account.  6\", \"Cookies and Other Technologies Apple’s websites, online services, interactive applications, and advertisements may use “cookies” and other technologies such as web beacons. These technologies help us to better understand user behavior including for security and fraud prevention purposes, tell us which parts of our websites people have visited, and facilitate and measure the effectiveness of advertisements and web searches. •Communications Cookies. These cookies are used to enable network traffic to and from Apple’s systems, including by helping us detect any errors. •Strictly Necessary Cookies. These cookies are set as required to provide a specific feature or service that you have accessed or requested. For example, they allow us to display our websites in the proper format and language, to authenticate and verify your transactions, and to preserve the contents of your Bag when shopping online at apple.com.  •Other Cookies. These cookies are used to understand how visitors interact with our websites and online services, including by helping us to assess the effectiveness of advertisements and web searches. Apple also uses these cookies to remember choices you make while browsing, so we can provide you with a customized experience.  If you prefer that Apple not use cookies, we provide you with the means to disable their use. If you want to disable cookies and you’re using the Safari web browser, choose “Block all cookies” in Safari’s privacy settings. If you are using a different browser, check with your provider to find out how to disable cookies. Certain features of the Apple website may not be available if all cookies are disabled. In addition to cookies, Apple uses other technologies that help us achieve similar objectives.  In some email messages Apple sends to you, we provide a “click-through URL” that links you to content on the Apple website. When you click one of these URLs, they pass through a separate server before arriving at the destination page on our website. We track this click-through to help us determine interest in particular topics and measure whether we are communicating with you effectively. If you prefer not to be tracked in this way, you should not click graphic or text links in email messages. Apple generally treats data we collect using these cookies and similar technologies as nonpersonal data. However, to the extent that Internet Protocol (IP) addresses or similar identifiers are considered personal data by local law, we also treat these identifiers as personal data in those regions. In addition, Apple sometimes combines nonpersonal data collected from these technologies with other personal data Apple holds. When we combine data in this way, we treat the combined data as personal data for purposes of this Privacy Policy. Ads that are delivered by Apple’s advertising platform may appear in Apple News, Stocks, or in the App Store. If you do not want to receive ads targeted to your interests from Apple's advertising platform in those apps, you can choose to disable Personalized Ads, which will opt your Apple ID out of receiving such ads regardless of what device you are using. On your iOS or iPadOS device, you can disable Personalized Ads by going to Settings > Privacy > Apple Advertising and tapping to turn oﬀ Personalized Ads. On your Mac, you can disable Personalized Ads by choosing Apple menu > System Preferences > Security & Privacy, clicking Privacy, clicking Advertising, and deselecting Personalized Ads. You may still see ads in the App Store, Apple News, or Stocks based on context like your search query or the channel you are reading. If you disable Allow Apps to Request to Track, third-party apps cannot request to use the Advertising Identiﬁer, a non personal identiﬁer served by the operating system on your device, to track you across apps and websites owned by other companies.\", ' 7', \"Transfer of Personal Data Between Countries Apple products and offerings connect you to the world. To make that possible, your personal data may be transferred to or accessed by entities around the world, including Apple-affiliated companies, to perform processing activities such as those described in this Privacy Policy in connection with your use of our products and services. Apple complies with laws on the transfer of personal data between countries to help ensure your data is protected, wherever it may be. The Apple entity that controls your personal data may differ depending on where you live. For example, retail store information is controlled by individual retail entities in each country and Apple Media Services-related personal data may be controlled by various Apple entities as reflected in the terms of service. If you do not reside in the U.S., your personal data may be processed by Apple Inc. and other Apple-affiliated companies on behalf of the Apple entity controlling personal data for your jurisdiction. For example, Imagery and associated data collected by Apple around the world to improve Apple Maps and to support our Look Around feature is transferred to Apple Inc. in California.  Personal data relating to individuals in the European Economic Area, the United Kingdom, and Switzerland is controlled by Apple Distribution International Limited in Ireland. Apple's international transfer of personal data collected in the European Economic Area, the United Kingdom, and Switzerland is governed by Standard Contractual Clauses. Apple’s international transfer of personal data collected in participating Asia-Pacific Economic Cooperation (APEC) countries abides by the APEC Cross-Border Privacy Rules (CBPR) System and Privacy Recognition for Processors (PRP) System for the transfer of personal data. If you have questions or unresolved concerns about our APEC CBPR or PRP certifications, contact our third-party dispute resolution provider.  Personal data relating to individuals in China mainland may be processed by Apple in countries outside of China mainland. Where this occurs, it will be done in compliance with local laws, including the Personal Information Protection Law. As outlined in this Privacy Policy, Apple may also transfer such personal data to third parties, who may in turn store or transfer the data outside of China mainland. Our Companywide Commitment to Your\\xa0Privacy To make sure your personal data is secure, we communicate our privacy and security guidelines to Apple employees and strictly enforce privacy safeguards within the company. Privacy Questions If you have questions about Apple’s Privacy Policy or privacy practices including where a third-party service provider is acting on our behalf, would like to contact our Data Protection Officer, or would like to submit a complaint, you can contact us at apple.com/legal/privacy/contact or call the Apple Support number for your country or region. You can also ask us questions about how to submit a privacy complaint and we will endeavor to help.  Apple takes your privacy questions seriously. A dedicated team reviews your inquiry to determine how best to respond to your question or concern, including those inquiries received in response to an access or download request. In most cases, all substantive contacts receive a response within seven days. In other cases, we may require additional information or let you know that we need more time to respond. Where your complaint indicates an improvement could be made in our handling of privacy issues, we will take steps to make such an update at the next reasonable opportunity. In the event that a privacy issue has  8\", 'resulted in a negative impact on you or another person, we will take steps to address that with you or that other person. If you are not satisfied with Apple’s response, you may refer your complaint to the applicable regulator. If you ask us, we will endeavor to provide you with information about relevant complaint avenues which may be applicable to your circumstances. When there is a material change to this Privacy Policy, we’ll post a notice on this website at least a week in advance of doing so and contact you directly about the change if we have your data on file.View our APEC CBPR certification > View our APEC PRP certification > ', ' 9']\n"
     ]
    }
   ],
   "source": [
    "print(policy)"
   ]
  },
  {
   "cell_type": "code",
   "execution_count": 66,
   "id": "bc7b83c8",
   "metadata": {},
   "outputs": [],
   "source": [
    "# begin working sample of reading privacy policy html page with no dropdown menu's\n",
    "\n",
    "# url = \"https://snap.com/en-US/privacy/privacy-policy\"\n",
    "url = \"https://www.whatsapp.com/legal/privacy-policy\"\n",
    "\n",
    "res = requests.get(url)\n",
    "html_page = res.content\n",
    "\n",
    "soup = BeautifulSoup(html_page, 'html.parser')\n",
    "text = soup.find_all(text=True)"
   ]
  },
  {
   "cell_type": "code",
   "execution_count": 67,
   "id": "487400c9",
   "metadata": {},
   "outputs": [
    {
     "data": {
      "text/plain": [
       "{'[document]',\n",
       " 'a',\n",
       " 'b',\n",
       " 'body',\n",
       " 'h1',\n",
       " 'h3',\n",
       " 'h4',\n",
       " 'h5',\n",
       " 'h6',\n",
       " 'head',\n",
       " 'html',\n",
       " 'i',\n",
       " 'li',\n",
       " 'option',\n",
       " 'p',\n",
       " 'script',\n",
       " 'span',\n",
       " 'title'}"
      ]
     },
     "execution_count": 67,
     "metadata": {},
     "output_type": "execute_result"
    }
   ],
   "source": [
    "set([t.parent.name for t in text])"
   ]
  },
  {
   "cell_type": "code",
   "execution_count": 100,
   "id": "318e3638",
   "metadata": {},
   "outputs": [],
   "source": [
    "output = ''\n",
    "blacklist = [\n",
    "    '[document]',\n",
    "   'noscript',\n",
    "    'header',\n",
    "    'html',\n",
    "    'meta',\n",
    "    'head', \n",
    "    'input',\n",
    "    'script',\n",
    "    'link',\n",
    "    'style'\n",
    "]\n",
    "\n",
    "for t in text:\n",
    "    if t.parent.name not in blacklist:\n",
    "        output += '{} '.format(t)"
   ]
  },
  {
   "cell_type": "code",
   "execution_count": 101,
   "id": "35ca820c",
   "metadata": {},
   "outputs": [
    {
     "name": "stdout",
     "output_type": "stream",
     "text": [
      "Privacy Policy Privacy Policy Select your language azərbaycan Afrikaans Bahasa Indonesia Melayu català čeština dansk Deutsch eesti English español français Gaeilge hrvatski italiano Kiswahili latviešu lietuvių magyar Nederlands norsk bokmål o‘zbek Filipino polski Português (Brasil) Português (Portugal) română shqip slovenčina slovenščina suomi svenska Tiếng Việt Türkçe Ελληνικά български қазақ тілі македонски русский српски українська עברית العربية فارسی اردو বাংলা हिन्दी ગુજરાતી ಕನ್ನಡ मराठी ਪੰਜਾਬੀ தமிழ் తెలుగు മലയാളം ไทย 简体中文 繁體中文（台灣） 繁體中文（香港） 日本語 한국어 Download Features Privacy Help Center Get in touch azərbaycan Afrikaans Bahasa Indonesia Melayu català čeština dansk Deutsch eesti English español français Gaeilge hrvatski italiano Kiswahili latviešu lietuvių magyar Nederlands norsk bokmål o‘zbek Filipino polski Português (Brasil) Português (Portugal) română shqip slovenčina slovenščina suomi svenska Tiếng Việt Türkçe Ελληνικά български қазақ тілі македонски русский српски українська עברית العربية فارسی اردو বাংলা हिन्दी ગુજરાતી ಕನ್ನಡ मराठी ਪੰਜਾਬੀ தமிழ் తెలుగు മലയാളം ไทย 简体中文 繁體中文（台灣） 繁體中文（香港） 日本語 한국어 Last modified: January 4, 2021 ( archived versions ) WhatsApp Privacy Policy If you live in the  European Region , WhatsApp Ireland Limited provides the services to you under this  Terms of Service  and  Privacy Policy . WhatsApp Legal Info If you live outside the  European Region , WhatsApp LLC (\"WhatsApp,\" \"our,\" \"we,\" or \"us\") provides our Services to you under this  Terms of Service  and  Privacy Policy .  Our Privacy Policy (\"Privacy Policy\") helps explain our data practices, including the information we process to provide our Services.  For example, our Privacy Policy talks about what information we collect and how this affects you. It also explains the steps we take to protect your privacy, like building our Services so delivered messages aren’t stored by us and giving you control over who you communicate with on our Services. We are one of the  Meta Companies . You can learn more further below in this Privacy Policy about the ways in which we share information across this family of companies. This Privacy Policy applies to all of our Services unless specified otherwise. Please also read WhatsApp’s  Terms of Service  (\"Terms\"), which describe the terms under which you use and we provide our Services. Back to top Key Updates Respect for your privacy is coded into our DNA. Since we started WhatsApp, we’ve built our services with a set of strong privacy principles in mind. In our updated  Terms of Service  and  Privacy Policy  you’ll find: Additional Information On How We Handle Your Data . Our updated Terms and Privacy Policy provide more information on how we process your data, and our commitment to privacy. For example, we’ve added more information about more recent product features and functionalities, how we process your data for safety, security, and integrity, and added more direct links to user settings, Help Center articles and how you can manage your information. Better Communication With Businesses . Many businesses rely on WhatsApp to communicate with their customers and clients. We work with businesses that use Meta or third parties to help store and better manage their communications with you on WhatsApp.  Making It Easier To Connect . As part of the  Meta Companies , WhatsApp partners with Meta to offer experiences and integrations across Meta’s family of apps and products. Back to top Information We Collect WhatsApp must receive or collect some information to operate, provide, improve, understand, customize, support, and market our Services, including when you install, access, or use our Services.  The types of information we receive and collect depend on how you use our Services. We require certain information to deliver our Services and without this we will not be able to provide our Services to you. For example, you must provide your mobile phone number to create an account to use our Services.  Our Services have optional features which, if used by you, require us to collect additional information to provide such features. You will be notified of such collection, as appropriate. If you choose not to provide the information needed to use a feature, you will be unable to use the feature. For example, you cannot share your location with your contacts if you do not permit us to collect your location data from your device. Permissions can be managed through your Settings menu on both  Android  and  iOS  devices. Information You Provide Your Account Information . You must provide your mobile phone number and basic information (including a profile name of your choice) to create a WhatsApp account. If you don’t provide us with this information, you will not be able to create an account to use our Services. You can add other information to your account, such as a profile picture and \"about\" information. Your Messages . We do not retain your messages in the ordinary course of providing our Services to you. Instead, your messages are stored on your device and not typically stored on our servers. Once your messages are delivered, they are deleted from our servers. The following scenarios describe circumstances where we may store your messages in the course of delivering them:  Undelivered Messages . If a message cannot be delivered immediately (for example, if the recipient is offline), we keep it in encrypted form on our servers for up to 30 days as we try to deliver it. If a message is still undelivered after 30 days, we delete it.  Media Forwarding . When a user forwards media within a message, we store that media temporarily in encrypted form on our servers to aid in more efficient delivery of additional forwards. We offer end-to-end encryption for our Services. End-to-end encryption means that your messages are encrypted to protect against us and third parties from reading them. Learn more about  end-to-end encryption  and  how businesses communicate with you on WhatsApp .  Your Connections . You can use the contact upload feature and provide us, if permitted by applicable laws, with the phone numbers in your address book on a regular basis, including those of users of our Services and your other contacts. If any of your contacts aren’t yet using our Services, we’ll manage this information for you in a way that ensures those contacts cannot be identified by us. Learn more about our contact upload feature  here . You can create, join, or get added to groups and broadcast lists, and such groups and lists get associated with your account information. You give your groups a name. You can provide a group profile picture or description. Status Information . You may provide us your status if you choose to include one on your account. Learn how to use status on  Android ,  iPhone , or  KaiOS . Transactions And Payments Data . If you use our payments services, or use our Services meant for purchases or other financial transactions, we process additional information about you, including payment account and transaction information. Payment account and transaction information includes information needed to complete the transaction (for example, information about your payment method, shipping details and transaction amount). If you use our payments services available in your country or territory, our privacy practices are described in the applicable payments privacy policy.  Customer Support And Other Communications . When you contact us for customer support or otherwise communicate with us, you may provide us with information related to your use of our Services, including copies of your messages, any other information you deem helpful, and how to contact you (e.g., an email address). For example, you may send us an email with information relating to app performance or other issues. Automatically Collected Information Usage And Log Information . We collect information about your activity on our Services, like service-related, diagnostic, and performance information. This includes information about your activity (including how you use our Services, your Services settings, how you interact with others using our Services (including when you interact with a business), and the time, frequency, and duration of your activities and interactions), log files, and diagnostic, crash, website, and performance logs and reports. This also includes information about when you registered to use our Services; the features you use like our messaging, calling, Status, groups (including group name, group picture, group description), payments or business features; profile photo, \"about\" information; whether you are online, when you last used our Services (your \"last seen\"); and when you last updated your \"about\" information. Device And Connection Information . We collect device and connection-specific information when you install, access, or use our Services. This includes information such as hardware model, operating system information, battery level, signal strength, app version, browser information, mobile network, connection information (including phone number, mobile operator or ISP), language and time zone, IP address, device operations information, and identifiers (including identifiers unique to  Meta Company Products  associated with the same device or account). Location Information . We collect and use precise location information from your device with your permission when you choose to use  location-related features , like when you decide to share your location with your contacts or view locations nearby or locations others have shared with you. There are certain settings relating to location-related information which you can find in your device settings or the in-app settings, such as location sharing. Even if you do not use our location-related features, we use IP addresses and other information like phone number area codes to estimate your general location (e.g., city and country). We also use your location information for diagnostics and troubleshooting purposes.  Cookies . We use cookies to operate and provide our Services, including to provide our Services that are web-based, improve your experiences, understand how our Services are being used, and customize them. For example, we use cookies to provide our Services for web and desktop and other web-based services. We may also use cookies to understand which of our Help Center articles are most popular and to show you relevant content related to our Services. Additionally, we may use cookies to remember your choices, like your language preferences, to provide a safer experience, and otherwise to customize our Services for you.  Learn more  about how we use cookies to provide you our Services. Back to top Third-Party Information Information Others Provide About You . We receive information about you from other users. For example, when other users you know use our Services, they may provide your phone number, name, and other information (like information from their mobile address book) just as you may provide theirs. They may also send you messages, send messages to groups to which you belong, or call you. We require each of these users to have lawful rights to collect, use, and share your information before providing any information to us.  You should keep in mind that in general any user can capture screenshots of your chats or messages or make recordings of your calls with them and send them to WhatsApp or anyone else, or post them on another platform. User Reports . Just as you can report other users, other users or third parties may also choose to report to us your interactions and your messages with them or others on our Services; for example, to report possible violations of our Terms or policies. When a report is made, we collect information on both the reporting user and reported user. To find out more about what happens when a user report is made, please see  Advanced Safety and Security Features . Businesses On WhatsApp . Businesses you interact with using our Services may provide us with information about their interactions with you. We require each of these businesses to act in accordance with applicable law when providing any information to us.  When you message with a business on WhatsApp, keep in mind that the content you share may be visible to several people in that business. In addition, some businesses might be working with third-party service providers (which may include Meta) to help manage their communications with their customers. For example, a business may give such third-party service provider access to its communications to send, store, read, manage, or otherwise process them for the business. To understand how a business processes your information, including how it might share your information with third parties or Meta, you should review that business’ privacy policy or contact the business directly. Third-Party Service Providers . We work with third-party service providers and other  Meta Companies  to help us operate, provide, improve, understand, customize, support, and market our Services. For example, we work with them to distribute our apps; provide our technical and physical infrastructure, delivery, and other systems; provide engineering support, cybersecurity support, and operational support; supply location, map, and places information; process payments; help us understand how people use our Services; market our Services; help you connect with businesses using our Services; conduct surveys and research for us; ensure safety, security, and integrity; and help with customer service. These companies may provide us with information about you in certain circumstances; for example, app stores may provide us with reports to help us diagnose and fix service issues.  The “ How We Work With Other Meta Companies ” section below provides more information about how WhatsApp collects and shares information with the other  Meta Companies . Third-Party Services . We allow you to use our Services in connection with third-party services and  Meta Company Products . If you use our Services with such third-party services or  Meta Company Products , we may receive information about you from them; for example, if you use the WhatsApp share button on a news service to share a news article with your WhatsApp contacts, groups, or broadcast lists on our Services, or if you choose to access our Services through a mobile carrier’s or device provider’s promotion of our Services. Please note that when you use third-party services or  Meta Company Products , their own terms and privacy policies will govern your use of those services and products. Back to top How We Use Information We use information we have (subject to choices you make and applicable law) to operate, provide, improve, understand, customize, support, and market our Services. Here's how: Our Services . We use information we have to operate and provide our Services, including providing customer support; completing purchases or transactions; improving, fixing, and customizing our Services; and connecting our Services with  Meta Company Products  that you may use. We also use information we have to understand how people use our Services; evaluate and improve our Services; research, develop, and test new services and features; and conduct troubleshooting activities. We also use your information to respond to you when you contact us.  Safety, Security, And Integrity . Safety, security, and integrity are an integral part of our Services. We use information we have to verify accounts and activity; combat harmful conduct; protect users against bad experiences and spam; and promote safety, security, and integrity on and off our Services, such as by investigating suspicious activity or violations of our Terms and policies, and to ensure our Services are being used legally. Please see the  Law, Our Rights and Protection  section below for more information. Communications About Our Services And  The Meta Companies . We use information we have to communicate with you about our Services and let you know about our terms, policies, and other important updates. We may provide you marketing for our Services and those of the  Meta Companies .  No Third-Party Banner Ads . We still do not allow third-party banner ads on our Services. We have no intention to introduce them, but if we ever do, we will update this Privacy Policy. Business Interactions . We enable you and third parties, like businesses, to communicate and interact with each other using our Services, such as  Catalogs  for businesses on WhatsApp through which you can browse products and services and place orders. Businesses may send you transaction, appointment, and shipping notifications; product and service updates; and marketing. For example, you may receive flight status information for upcoming travel, a receipt for something you purchased, or a notification when a delivery will be made. Messages you receive from a business could include an offer for something that might interest you. We do not want you to have a spammy experience; as with all of your messages, you can manage these communications, and we will honor the choices you make. Back to top Information You And We Share You share your information as you use and communicate through our Services, and we share your information to help us operate, provide, improve, understand, customize, support, and market our Services. Send Your Information To Those With Whom You Choose To Communicate . You share your information (including messages) as you use and communicate through our Services. Information Associated With Your Account . Your phone number, profile name and photo, \"about\" information, last seen information, and message receipts are available to anyone who uses our Services, although you can configure your Services settings to manage certain information available to other users, including businesses, with whom you communicate. Your Contacts And Others . Users, including businesses, with whom you communicate can store or reshare your information (including your phone number or messages) with others on and off our Services. You can use your Services settings and the “block” feature in our Services to manage who you communicate with on our Services and certain information you share. Businesses On WhatsApp . We offer specific services to businesses such as providing them with metrics regarding their use of our Services. Third-Party Service Providers . We work with third-party service providers and other  Meta Companies  to help us operate, provide, improve, understand, customize, support, and market our Services. We work with these companies to support our Services, such as to provide technical infrastructure, delivery and other systems; market our Services; conduct surveys and research for us; protect the safety, security, and integrity of users and others; and assist with customer service. When we share information with third-party service providers and other  Meta Companies  in this capacity, we require them to use your information on our behalf in accordance with our instructions and terms.  Third-Party Services . When you or others use third-party services or other  Meta Company Products  that are integrated with our Services, those third-party services may receive information about what you or others share with them. For example, if you use a data backup service integrated with our Services (like iCloud or Google Drive), they will receive information you share with them, such as your WhatsApp messages. If you interact with a third-party service or another  Meta Company Product  linked through our Services, such as when you use the in-app player to play content from a third-party platform, information about you, like your IP address and the fact that you are a WhatsApp user, may be provided to such third party or  Meta Company Product . Please note that when you use third-party services or other  Meta Company Products , their own terms and privacy policies will govern your use of those services and products. Back to top How We Work With Other Meta Companies As part of the  Meta Companies , WhatsApp receives information from, and shares information (see  here ) with, the other  Meta Companies . We may use the information we receive from them, and they may use the information we share with them, to help operate, provide, improve, understand, customize, support, and market our Services and their offerings, including the  Meta Company Products . This includes: helping improve infrastructure and delivery systems;  understanding how our Services or theirs are used; promoting safety, security, and integrity across the  Meta Company Products , e.g., securing systems and fighting spam, threats, abuse, or infringement activities; improving their services and your experiences using them, such as making suggestions for you (for example, of friends or group connections, or of interesting content), personalizing features and content, helping you complete purchases and transactions, and showing relevant offers and ads across the  Meta Company Products ; and providing integrations which enable you to connect your WhatsApp experiences with other  Meta Company Products . For example, allowing you to connect your Facebook Pay account to pay for things on WhatsApp or enabling you to chat with your friends on other  Meta Company Products , such as Portal, by connecting your WhatsApp account. Learn more about the other  Meta Companies  and their privacy practices by reviewing their privacy policies. Back to top Assignment, Change Of Control, And Transfer In the event that we are involved in a merger, acquisition, restructuring, bankruptcy, or sale of all or some of our assets, we will share your information with the successor entities or new owners in connection with the transaction in accordance with applicable data protection laws.  Back to top Managing And Retaining Your Information You can access or port your information using our in-app Request Account Info feature (available under Settings > Account). For iPhone users, you can learn how to  access ,  manage , and  delete  your information through our  iPhone Help Center articles . For Android users, you can learn how to  access ,  manage , and  delete  your information through our  Android Help Center articles . We store information for as long as necessary for the purposes identified in this Privacy Policy, including to provide our Services or for other legitimate purposes, such as complying with legal obligations, enforcing and preventing violations of our Terms, or protecting or defending our rights, property, and users. The storage periods are determined on a case-by-case basis that depends on factors like the nature of the information, why it is collected and processed, relevant legal or operational retention needs, and legal obligations.  If you would like to further   manage, change, limit, or delete your information  , you can do that through the following tools: Services Settings . You can change your Services settings to manage certain information available to other users. You can manage your contacts, groups, and broadcast lists, or use our “block” feature to manage the users with whom you communicate. Changing Your Mobile Phone Number, Profile Name And Picture, And “About” Information . If you change your mobile phone number, you must update it using our in-app change number feature and transfer your account to your new mobile phone number. You can also change your profile name, profile picture, and \"about\" information at any time. Deleting Your WhatsApp Account . You can delete your WhatsApp account at any time (including if you want to revoke your consent to our use of your information pursuant to applicable law) using our in-app delete my account feature. When you delete your WhatsApp account, your undelivered messages are deleted from our servers as well as any of your other information we no longer need to operate and provide our Services. Deleting your account will, for example, delete your account info and profile photo, delete you from all WhatsApp groups, and delete your WhatsApp message history. Be mindful that if you only delete WhatsApp from your device without using our in-app delete my account feature, your information will be stored with us for a longer period. Please remember that when you delete your account, it does not affect your information related to the groups you created or the information other users have relating to you, such as their copy of the messages you sent them.  You can learn more  here  about our data deletion and retention practices and about how to delete your account. Back to top Law, Our Rights, And Protection We access, preserve, and share your information described in the \" Information We Collect \" section of this Privacy Policy above if we have a good-faith belief that it is necessary to: (a) respond pursuant to applicable law or regulations, legal process, or government requests; (b) enforce our Terms and any other applicable terms and policies, including for investigations of potential violations; (c) detect, investigate, prevent, or address fraud and other illegal activity or security, and technical issues; or (d) protect the rights, property, and safety of our users, WhatsApp, the other  Meta Companies , or others, including to prevent death or imminent bodily harm. Back to top Our Global Operations WhatsApp shares information globally, both internally within the  Meta Companies  and externally with our partners and service providers, and with those with whom you communicate around the world, in accordance with this Privacy Policy. Your information may, for example, be transferred or transmitted to, or stored and processed in, the United States; countries or territories where the  Meta Companies’  affiliates and partners, or our service providers are located; or any other country or territory globally where our Services are provided outside of where you live for the purposes as described in this Privacy Policy. WhatsApp uses Meta’s global infrastructure and data centers, including in the United States. These transfers are necessary to provide the global Services set forth in our Terms. Please keep in mind that the countries or territories to which your information is transferred may have different privacy laws and protections than what you have in your home country or territory. Back to top Updates To Our Policy We may amend or update our Privacy Policy. We will provide you notice of amendments to this Privacy Policy, as appropriate, and update the “Last modified” date at the top of this Privacy Policy. Please review our Privacy Policy from time to time. Back to top California Consumer Privacy Act California residents may learn more about their rights, including how to exercise their rights under the California Consumer Privacy Act of 2018, by clicking  here .  Back to top Contact Us  If you have questions or issues about our Privacy Policy, please  contact us . WhatsApp LLC  Privacy Policy  1601 Willow Road  Menlo Park, California 94025  United States of America Back to top WHATSAPP Features Download WhatsApp Web Business Privacy COMPANY About Careers Brand Center Get in touch Blog WhatsApp Stories DOWNLOAD Mac/PC Android iPhone HELP Help Center Twitter Facebook Coronavirus 2022 © WhatsApp LLC Privacy & Terms \n",
      " \n",
      " \n",
      " \n",
      " \n",
      " \n",
      " \n",
      " \n",
      " \n",
      " \n",
      " \n",
      " \n",
      " \n",
      " \n",
      " \n"
     ]
    }
   ],
   "source": [
    "print(output)\n",
    "\n",
    "# end html page read"
   ]
  },
  {
   "cell_type": "code",
   "execution_count": 31,
   "id": "ac6c797f",
   "metadata": {},
   "outputs": [
    {
     "data": {
      "text/plain": [
       "'/Users/allison.lu'"
      ]
     },
     "execution_count": 31,
     "metadata": {},
     "output_type": "execute_result"
    }
   ],
   "source": [
    "pwd"
   ]
  },
  {
   "cell_type": "code",
   "execution_count": null,
   "id": "92aba334",
   "metadata": {},
   "outputs": [],
   "source": []
  }
 ],
 "metadata": {
  "kernelspec": {
   "display_name": "Python 3 (ipykernel)",
   "language": "python",
   "name": "python3"
  },
  "language_info": {
   "codemirror_mode": {
    "name": "ipython",
    "version": 3
   },
   "file_extension": ".py",
   "mimetype": "text/x-python",
   "name": "python",
   "nbconvert_exporter": "python",
   "pygments_lexer": "ipython3",
   "version": "3.9.12"
  }
 },
 "nbformat": 4,
 "nbformat_minor": 5
}
