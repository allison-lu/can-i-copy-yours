{
 "cells": [
  {
   "cell_type": "code",
   "execution_count": null,
   "id": "d557741c",
   "metadata": {},
   "outputs": [],
   "source": [
    "import httplib2\n",
    "from bs4 import BeautifulSoup, SoupStrainer\n",
    "import requests\n",
    "import os\n",
    "import platform\n",
    "import time\n",
    "import json\n",
    "from PyPDF2 import PdfFileReader\n",
    "import io\n",
    "\n",
    "import numpy as np\n",
    "import pandas as pd\n",
    "import re\n",
    "import array\n",
    "from time import sleep\n",
    "\n",
    "from selenium import webdriver\n",
    "from selenium.webdriver.common.keys import Keys\n",
    "from selenium.webdriver.common.by import By\n",
    "from selenium.webdriver.support.ui import WebDriverWait\n",
    "from selenium.webdriver.support import expected_conditions as EC\n",
    "from selenium.common.exceptions import NoSuchElementException"
   ]
  },
  {
   "cell_type": "code",
   "execution_count": null,
   "id": "508b7ef7",
   "metadata": {},
   "outputs": [],
   "source": [
    "# click privacy policy button, pass in webdriver and data safety urls with privacy policy button on page\n",
    "def press_button(driver, data_url):\n",
    "    driver.implicitly_wait(1)\n",
    "    driver.get(data_url)\n",
    "    print(data_url)\n",
    "    # press privacy policy button by LINK_TEXT from html/web inspection page\n",
    "    \n",
    "    try:\n",
    "        button = driver.find_element(By.LINK_TEXT, \"privacy policy\")\n",
    "        button.click()\n",
    "    \n",
    "    except NoSuchElementException:\n",
    "        pass\n",
    "        current = \"N/A\"\n",
    "        print(current)\n",
    "        return current\n",
    "    \n",
    "    \n",
    "    # close unused tabs, url for privacy policy is child window\n",
    "#     p = driver.window_handles[0]\n",
    "#     c = driver.window_handles[1]\n",
    "#     driver.switch_to.window(c)\n",
    "    \n",
    "#     WebDriverWait(driver, 2)\n",
    "    \n",
    "#     current = driver.current_url\n",
    "#     print(current)\n",
    "    comp = driver.current_url\n",
    "    tabs_open = len(driver.window_handles)\n",
    "\n",
    "    if tabs_open > 1:        \n",
    "        p = driver.window_handles[0]\n",
    "        c = driver.window_handles[1]\n",
    "        driver.switch_to.window(c)\n",
    "\n",
    "        WebDriverWait(driver, 4)\n",
    "\n",
    "        current = driver.current_url\n",
    "        print(current)\n",
    "        # close child window and switch to original/parent window\n",
    "        driver.close()\n",
    "    \n",
    "        driver.switch_to.window(p)\n",
    "    else:\n",
    "        WebDriverWait(driver, 2)\n",
    "        current = driver.current_url\n",
    "        print(current)\n",
    "\n",
    "    sleep(1)\n",
    "\n",
    "    # return privacy policy url for df\n",
    "    return current"
   ]
  },
  {
   "cell_type": "code",
   "execution_count": null,
   "id": "e978c163",
   "metadata": {},
   "outputs": [],
   "source": [
    "# scroll search page to get all returned app url's and id's\n",
    "def scroll(driver, timeout):\n",
    "    last_height = driver.execute_script(\"return document.body.scrollHeight\")\n",
    "    scroll_pause_time = timeout\n",
    "    while True:\n",
    "        driver.execute_script(\"window.scrollTo(0, document.body.scrollHeight);\")\n",
    "        time.sleep(scroll_pause_time)\n",
    "        \n",
    "        new_height = driver.execute_script(\"return document.body.scrollHeight\")\n",
    "        if new_height == last_height:\n",
    "            break\n",
    "            \n",
    "        last_height = new_height"
   ]
  },
  {
   "cell_type": "code",
   "execution_count": null,
   "id": "9d44e3f0",
   "metadata": {},
   "outputs": [],
   "source": [
    "# get urls from search\n",
    "def get_urls(starts_with):\n",
    "    http = httplib2.Http()\n",
    "    chrome_options = webdriver.ChromeOptions()\n",
    "    chrome_options.add_argument(\"--incognito\")\n",
    "    if platform.system() == 'Windows':\n",
    "        driver = webdriver.Chrome(executable_path='./chromedriver.exe')\n",
    "    else:\n",
    "        if platform.system() == 'Darwin':\n",
    "            driver = webdriver.Chrome()\n",
    "    # wait for page to load\n",
    "    driver.implicitly_wait(30)\n",
    "    # provide url(s) for driver\n",
    "    driver.get(\"https://play.google.com/store/search?q=\" + starts_with  + \"&c=apps\")\n",
    "    # scroll to get all apps\n",
    "    scroll(driver, 2)\n",
    "\n",
    "    # read and obtain all urls\n",
    "    if platform.system() == 'Windows':\n",
    "        soup_a = BeautifulSoup(driver.page_source, features='html.parser')\n",
    "    else:\n",
    "        if platform.system() == 'Darwin':\n",
    "            soup_a = BeautifulSoup(driver.page_source, 'lxml')\n",
    "    \n",
    "    driver.close()\n",
    "\n",
    "    # copy all urls\n",
    "    urls = []\n",
    "    for link in soup_a.find_all('a'):\n",
    "        urls.append(link.get('href'))\n",
    "    return urls"
   ]
  },
  {
   "cell_type": "code",
   "execution_count": null,
   "id": "bd6ac2bd",
   "metadata": {
    "scrolled": true
   },
   "outputs": [],
   "source": [
    "# alphabet = \"abcdefghijklmnopqrstuvwxyz\"\n",
    "# categories = [\"Daydream\", \"Beauty\", \"Auto & Vehicles\", \"Business\", \"Comics\", \"Books & Reference\", \"Dating\", \"Education\", \"Communication\", \"Food & Drink\", \"Entertainment\", \"Health & Fitness\", \"Events\", \"Finance\", \"Libraries & Demo\", \"House & Home\", \"Lifestyle\", \"Medical\", \"Maps & Navigation\", \"News & Magazines\", \"Audio\", \"Personalization\", \"Photography\", \"Parenting\", \"Shopping\", \"Productivity\", \"Tools\", \"Social\", \"Sports\", \"Video Players & Editors\", \"Travel & Local\", \"Weather\",\n",
    "#               \"Adventure\", \"Arcade\", \"Action\", \"Board\", \"Casino\", \"Casual\", \"Card\", \"Music\", \"Puzzle\", \"Educational\", \"Role Playing\", \"Racing\", \"Sports\", \"Strategy\", \"Simulation\", \"Brain Games\", \"Trivia\", \"Word\", \"Education\", \"Creativity\", \"Video\", \"TV\", \"Weather\", \"a\", \"b\", \"c\", \"d\", \"e\", \"f\", \"g\", \"h\", \"i\", \"j\", \"k\", \"l\", \"m\", \"n\", \"o\", \"p\", \"q\", \"r\", \"s\", \"t\", \"u\", \"v\", \"w\", \"x\", \"y\", \"z\"]\n",
    "# categories = ['word']\n",
    "# urls = []\n",
    "# alphabet = 'ab'\n",
    "\n",
    "# loop through search categories and add to urls array\n",
    "# for char_index in range(len(categories)):\n",
    "#     print(categories[char_index])\n",
    "#     urls += get_urls(categories[char_index])\n",
    "#     print(urls[char_index])\n",
    "# print(len(urls))\n",
    "# for i in range(len(urls)):\n",
    "#     print(urls[i])\n"
   ]
  },
  {
   "cell_type": "code",
   "execution_count": null,
   "id": "fd7b6da2",
   "metadata": {},
   "outputs": [],
   "source": [
    "def get_data_safety_urls(app_ids):\n",
    "    \n",
    "    base_url = \"https://play.google.com/store/apps/datasafety?id=\"\n",
    "    data_urls = []\n",
    "    \n",
    "    data_urls = [base_url + s for s in app_ids]\n",
    "    \n",
    "    return data_urls\n",
    "            "
   ]
  },
  {
   "cell_type": "code",
   "execution_count": null,
   "id": "bea4f68d",
   "metadata": {},
   "outputs": [],
   "source": [
    "with open(\"config.json\") as json_data_file:\n",
    "    data = json.load(json_data_file)\n",
    "\n",
    "def get_collection_or_category_urls(collection_or_category_name, collection_or_category, geographic_location):\n",
    "    url = 'https://play.google.com/store/apps/' + collection_or_category +'/' + collection_or_category_name + '?gl=' + geographic_location\n",
    "    http = httplib2.Http()\n",
    "    chrome_options = webdriver.ChromeOptions()\n",
    "    chrome_options.add_argument(\"--incognito\")\n",
    "    if platform.system() == 'Windows':\n",
    "        driver = webdriver.Chrome(executable_path='./chromedriver.exe')\n",
    "    else:\n",
    "        if platform.system() == 'Darwin':\n",
    "            driver = webdriver.Chrome()\n",
    "    driver.implicitly_wait(30)\n",
    "    # provide url(s) for driver\n",
    "    driver.get(url)\n",
    "    # scroll to get all apps\n",
    "    scroll(driver, 2)\n",
    "\n",
    "    # read and obtain all urls\n",
    "    if platform.system() == 'Windows':\n",
    "        soup_a = BeautifulSoup(driver.page_source, features='html.parser')\n",
    "    else:\n",
    "        if platform.system() == 'Darwin':\n",
    "            soup_a = BeautifulSoup(driver.page_source, 'lxml')\n",
    "    \n",
    "    driver.close()\n",
    "\n",
    "    # copy all urls\n",
    "    urls = []\n",
    "    for link in soup_a.find_all('a'):\n",
    "        urls.append(link.get('href'))\n",
    "    app_urls = [val for val in urls if val.startswith('/store/apps/details?id=')]\n",
    "    # print(\"No. of apps found for \" + collection_or_category + \" \" + collection_or_category_name + \":\", len(app_urls))    \n",
    "    # print(app_urls)\n",
    "    return app_urls\n",
    "all_urls = []\n",
    "geo_locations = []\n",
    "for location in data['gl']:\n",
    "    geo_locations.append(data['gl'][location])\n",
    "for gl_code in geo_locations:\n",
    "    for config_key in data['category']:\n",
    "        all_urls = all_urls + get_collection_or_category_urls(data['category'][config_key],'category',gl_code)\n",
    "    for config_key in data['collection']:\n",
    "        all_urls = all_urls + get_collection_or_category_urls(data['collection'][config_key],'collection',gl_code) \n",
    "seen = set()\n",
    "total_unique_urls = []\n",
    "for item in all_urls:\n",
    "    if item not in seen:\n",
    "        seen.add(item)\n",
    "        total_unique_urls.append(item)     \n",
    "print(\"Total number of apps found: \", len(total_unique_urls))\n",
    "print(total_unique_urls)"
   ]
  },
  {
   "cell_type": "code",
   "execution_count": null,
   "id": "76a711c9",
   "metadata": {},
   "outputs": [],
   "source": [
    "# remove extra characters from urls array to get only app ids\n",
    "for i in range(len(total_unique_urls)):\n",
    "    total_unique_urls[i] = total_unique_urls[i][23:]\n",
    "    print(total_unique_urls[i])\n",
    "print(len(total_unique_urls))\n",
    "print(\"------------------------------------------------------------------------------------------------------------\")\n",
    "data_urls = get_data_safety_urls(total_unique_urls)\n",
    "print(len(data_urls))\n",
    "print(data_urls, total_unique_urls)"
   ]
  },
  {
   "cell_type": "code",
   "execution_count": null,
   "id": "97a292cf",
   "metadata": {},
   "outputs": [],
   "source": [
    "# pd.set_option('max_colwidth', 400)\n",
    "# df = pd.DataFrame(data_urls, columns=['data safety urls'])\n",
    "# display(df)"
   ]
  },
  {
   "cell_type": "code",
   "execution_count": null,
   "id": "3b38a899",
   "metadata": {},
   "outputs": [],
   "source": [
    "# appid_df = pd.DataFrame(app_ids, columns=['app id'])\n",
    "# display(appid_df)"
   ]
  },
  {
   "cell_type": "code",
   "execution_count": null,
   "id": "0784d7f8",
   "metadata": {},
   "outputs": [],
   "source": [
    "# concatenate app id and data safety urls dfs\n",
    "df = pd.DataFrame(data_urls, columns=['data safety urls'])\n",
    "appid_df = pd.DataFrame(total_unique_urls, columns=['app id'])\n",
    "pd.set_option('max_colwidth', 400)\n",
    "all_df = pd.concat([appid_df, df], axis=1, ignore_index=True)\n",
    "\n",
    "all_df.columns = ['app id', 'data safety url']\n",
    "display(all_df)"
   ]
  },
  {
   "cell_type": "code",
   "execution_count": null,
   "id": "f6183a18",
   "metadata": {},
   "outputs": [],
   "source": [
    "darr = all_df['data safety url'].to_numpy()\n",
    "print(darr)"
   ]
  },
  {
   "cell_type": "code",
   "execution_count": null,
   "id": "2a11e8da",
   "metadata": {
    "scrolled": true
   },
   "outputs": [],
   "source": [
    "# press privacy policy button on page\n",
    "if platform.system() == 'Windows':\n",
    "        driver = webdriver.Chrome(executable_path='./chromedriver.exe')\n",
    "else:\n",
    "    if platform.system() == 'Darwin':\n",
    "        driver = webdriver.Chrome()\n",
    "driver.implicitly_wait(2)\n",
    "temp = []\n",
    "df = pd.DataFrame(columns=['privacy_policy_url'])\n",
    "for i in darr:\n",
    "#     temp += press_button(driver, i)\n",
    "    df = df.append({'privacy_policy_url':press_button(driver,i)}, ignore_index=True)\n",
    "#     urls = urls.append({'privacy_policy_url': str(priv_url)}, ignore_index=True)\n",
    "#     print(i)\n",
    "# urls = url.concat(urls, df)\n",
    "# df.insert(loc=0, column = 'privacy_policy_url', value=temp)\n",
    "driver.close()\n",
    "# display(urls)"
   ]
  },
  {
   "cell_type": "code",
   "execution_count": null,
   "id": "f3f1aecd",
   "metadata": {},
   "outputs": [],
   "source": [
    "display(df)"
   ]
  },
  {
   "cell_type": "code",
   "execution_count": null,
   "id": "a75026d3",
   "metadata": {},
   "outputs": [],
   "source": [
    "display(all_df)"
   ]
  },
  {
   "cell_type": "code",
   "execution_count": null,
   "id": "d52a807f",
   "metadata": {},
   "outputs": [],
   "source": [
    "print(len(df.index))\n",
    "print(len(all_df.index))\n",
    "\n",
    "\n",
    "merged = pd.concat([df, all_df], axis=1)\n",
    "display(merged)"
   ]
  },
  {
   "cell_type": "code",
   "execution_count": null,
   "id": "107e9966",
   "metadata": {},
   "outputs": [],
   "source": [
    "# driver = webdriver.Chrome()\n",
    "# driver.implicitly_wait(2)\n",
    "# temp = press_button(driver, \"https://play.google.com/store/apps/datasafety?id=com.apple.atve.androidtv.appletv\")\n",
    "# df.insert(loc=1, column = 'privacy policy url', value=temp)\n",
    "# driver.close()"
   ]
  },
  {
   "cell_type": "code",
   "execution_count": null,
   "id": "8ca15cf5",
   "metadata": {},
   "outputs": [],
   "source": [
    "link = \"https://www.apple.com/legal/privacy/pdfs/apple-privacy-policy-en-ww.pdf\"\n",
    "policy = []\n",
    "\n",
    "r = requests.get(link)\n",
    "f = io.BytesIO(r.content)\n",
    "\n",
    "reader = PdfFileReader(f)\n",
    "count = reader.numPages\n",
    "\n",
    "for i in range(count):\n",
    "    policy += reader.getPage(i).extractText().split('\\n')"
   ]
  },
  {
   "cell_type": "code",
   "execution_count": null,
   "id": "72c5ead7",
   "metadata": {},
   "outputs": [],
   "source": [
    "print(policy)"
   ]
  },
  {
   "cell_type": "code",
   "execution_count": null,
   "id": "bc7b83c8",
   "metadata": {},
   "outputs": [],
   "source": [
    "# begin working sample of reading privacy policy html page with no dropdown menu's\n",
    "\n",
    "# url = \"https://snap.com/en-US/privacy/privacy-policy\"\n",
    "url = \"https://www.whatsapp.com/legal/privacy-policy\"\n",
    "\n",
    "res = requests.get(url)\n",
    "html_page = res.content\n",
    "\n",
    "soup = BeautifulSoup(html_page, 'html.parser')\n",
    "text = soup.find_all(text=True)"
   ]
  },
  {
   "cell_type": "code",
   "execution_count": null,
   "id": "487400c9",
   "metadata": {},
   "outputs": [],
   "source": [
    "set([t.parent.name for t in text])"
   ]
  },
  {
   "cell_type": "code",
   "execution_count": null,
   "id": "318e3638",
   "metadata": {},
   "outputs": [],
   "source": [
    "output = ''\n",
    "blacklist = [\n",
    "    '[document]',\n",
    "   'noscript',\n",
    "    'header',\n",
    "    'html',\n",
    "    'meta',\n",
    "    'head', \n",
    "    'input',\n",
    "    'script',\n",
    "    'link',\n",
    "    'style'\n",
    "]\n",
    "\n",
    "for t in text:\n",
    "    if t.parent.name not in blacklist:\n",
    "        output += '{} '.format(t)"
   ]
  },
  {
   "cell_type": "code",
   "execution_count": null,
   "id": "35ca820c",
   "metadata": {},
   "outputs": [],
   "source": [
    "print(output)\n",
    "\n",
    "# end html page read"
   ]
  }
 ],
 "metadata": {
  "kernelspec": {
   "display_name": "Python 3.7.5 ('canicopyyours')",
   "language": "python",
   "name": "python3"
  },
  "language_info": {
   "codemirror_mode": {
    "name": "ipython",
    "version": 3
   },
   "file_extension": ".py",
   "mimetype": "text/x-python",
   "name": "python",
   "nbconvert_exporter": "python",
   "pygments_lexer": "ipython3",
   "version": "3.7.5"
  },
  "vscode": {
   "interpreter": {
    "hash": "af53a71ad076c5c5da371ae436b1f1878af5d74c403f9a1269d969bda97a8e49"
   }
  }
 },
 "nbformat": 4,
 "nbformat_minor": 5
}
